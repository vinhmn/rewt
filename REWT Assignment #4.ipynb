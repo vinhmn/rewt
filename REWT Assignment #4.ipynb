{
 "cells": [
  {
   "cell_type": "code",
   "execution_count": 1,
   "id": "f72ebf91",
   "metadata": {},
   "outputs": [],
   "source": [
    "import spacy"
   ]
  },
  {
   "cell_type": "code",
   "execution_count": 2,
   "id": "284a022d",
   "metadata": {},
   "outputs": [],
   "source": [
    "nlp = spacy.load('en_core_web_md')"
   ]
  },
  {
   "cell_type": "code",
   "execution_count": 4,
   "id": "9d35182c",
   "metadata": {},
   "outputs": [],
   "source": [
    "doc = nlp(open(\"Lerner\").read())"
   ]
  },
  {
   "cell_type": "code",
   "execution_count": 5,
   "id": "be80e717",
   "metadata": {},
   "outputs": [],
   "source": [
    "sentences = list(doc.sents)\n",
    "words = [item for item in list(doc) if item.is_alpha]\n",
    "noun_chunks = list(doc.noun_chunks)\n",
    "entities = list(doc.ents)"
   ]
  },
  {
   "cell_type": "code",
   "execution_count": 6,
   "id": "9b23a731",
   "metadata": {},
   "outputs": [],
   "source": [
    "import random"
   ]
  },
  {
   "cell_type": "markdown",
   "id": "6059442a",
   "metadata": {},
   "source": [
    "Text imported: The Hofmann Wobble -\n",
    "Wikipedia and the problem of historical memory\n",
    "by Ben Lerner; published in Harper's Magazine"
   ]
  },
  {
   "cell_type": "code",
   "execution_count": 7,
   "id": "8169a1f7",
   "metadata": {},
   "outputs": [
    {
     "name": "stdout",
     "output_type": "stream",
     "text": [
      "The Hofmann Wobble\n",
      "Wikipedia and the problem of historical memory\n",
      "\n",
      "At twenty-six, in 2006, the year before the iPhone launched, I found myself driving a red Subaru Outback—the color was technically “claret metallic,” the friend who’d lent me the car had told me, in case I ever wanted to touch up the paint—on Highway 12 in Utah. I was heading to the East Bay after a painful breakup in New York. I remember, wrongly, that I was listening to a book on tape, a work by a prominent linguist, as I moved through the alien landscape, jagged formations of red rock towering against a cloudless sky.\n",
      "\n",
      "Consider the metaphorical association of argument and war, the linguist says in my memory, the way we speak of “attacking” or “defending” our “position.” If we frame an argument metaphorically as armed conflict then we will think of our interlocutor as an enemy. But what would happen, the voice asked me as I gripped the wheel with both hands, tense from fifteen hours of continuous driving, having pulled over only for gas and Red Bull and granola bars and Camels since departing Omaha, where I’d napped and showered at the childhood home of a college friend—what would happen if we shifted the metaphorical frame and thought of argument as a kind of dance, as a series of steps undertaken with the goal of mutual expression, satisfaction, even pleasure?\n",
      "\n",
      "The wheel began to shake in my hands; the road had grown slick, as though with oil. I thought something was wrong with the car and I slowed down, then pulled over. There was no traffic; my solitude was total. I got out to look at the tires. It took me a few seconds to comprehend what I was seeing, what I was standing on. There were these very large, very black crickets everywhere, a dark sensate carpet covering the road, extending hundreds of yards into the distance on either side of me. I must already have crushed thousands of them. They were perfectly indifferent to my presence; without adjusting their pace, they moved over my shoes. If I’d had a smartphone, I would have protected myself by taking a video, establishing a frame. A slow black wave spilling over the highway and across the arid soil. My car was still on, the audiobook still playing: Here are three tools for identifying implicit metaphor.\n",
      "\n",
      "The mass of migrating insects, the sound of the voice in the empty car talking of inducers and concurrents over the engine noise—in my mind, this is where this story began. There was simply no contact between the language filling the car and the world to which it supposedly referred. It was as though I heard the recorded voice the way the crickets might, not through my ears, but through tympanal organs on my leg that vibrate in response to vibrating air. Or maybe I heard the voice in the car as mere stridulation, and the prominent linguist was the insect. Needless to say, all of these words are wrong. But as I stood there—dusk was falling, or dusk was rising from the ground, from the innumerable exoskeletons—the terms of my own life reached a point of total unintelligibility. It began with the crickets, although Wikipedia says that what I saw were not “true crickets,” but a kind of shield-backed katydid.\n",
      "\n",
      "The linguist had founded a think tank to bring his ideas about framing into progressive politics. You can’t argue effectively against something called “tax relief” from a left perspective because the metaphorical frame makes taxation an affliction. If a progressive assents to that frame—and so finds herself having to argue for “less relief,” more affliction—she has already lost. We have to generate new frames: taxation is patriotic investment.\n",
      "\n",
      "Let’s say that I, having looked for any excuse to flee Brooklyn, had moved to the East Bay for a “new-media fellowship” at the linguist’s institute. I rented the first apartment I looked at, a studio I couldn’t afford in the rear of a yellow Arts and Crafts building on Derby Street, half a mile from the Berkeley campus. My windows opened onto a back garden with lemon and magnolia trees. I went to the Ikea in Emeryville and then, praying nobody would steal my boxes, had a ten-minute consultation in downtown Oakland with a doctor my sister had recommended, so I could get my medical marijuana prescription. Back “home” in my apartment, I unloaded and assembled a coffee table, two chairs, and a queen-size bed. See the little hex key. I’m alarmed to recall I got my mattress for free off Craigslist from a floridly insane woman who was wearing a bathrobe over her sweatshirt and jeans. I did not get bedbugs, but that first night in my apartment I seemed to dream the woman’s dreams. A man was chasing me (but I wasn’t me) down Telegraph with a knife, yelling that the knife was mine, that he just wanted to return it to me.\n",
      "\n",
      "On my first day at the institute, a smiling man in his sixties named Anderson (I would never learn if this was his first or last name) who wore an i heart aruba baseball cap and thrice mentioned his PhD in cog sci introduced me to the “team” (the linguist wasn’t there; nobody from the board was there) and then showed me to my desk, which was basically a library carrel. That they placed their New Media Fellow in a ponderous wooden structure (not even a cubicle) that could have been from the nineteenth century allowed me to relax about how badly I’d exaggerated my “tech savvy” in my application. The office was otherwise nondescript. Beige carpet. We can decorate it with a framed Cézanne poster from an old show at SFMOMA, or a framed Hitchcock poster from an old show at the BAMPFA. Anderson waited with me while I booted up the Mac I’d been provided and he asked if I had any questions. I wasn’t sure if he was asking if I had questions about the computer or the nature of my position, so I said, No, not at the moment, assuming that someone was planning a proper orientation. But nobody came to orient me in this fiction, for this is a fiction about disorientation. When I stood to stretch my legs I saw (through the window that my carrel blocked) iridescent hummingbirds drinking at hanging purple flowers. Their wings make up to seventy edits to the air per second.\n",
      "\n",
      "Nobody came the next day or the next—save for Anderson, who asked how it was going, if I knew where the coffee was, if I understood the community rules for the refrigerator, if I wanted restaurant recommendations. To appear busy, I spent those first days reading everything on the institute’s website, every white paper and set of “thinking points,” every archived “email blast”—these are what I assumed the “team” was working on—and tried not to contact my love back East. I’d moved across the country to read a website. The first weeks passed like that—thinking points, hummingbirds, avocado rolls from Manpuku I’d eat on a bench in Willard Park, where a homeless man often asked me, smiling menacingly, “Who do you think you are, Pancho Villa?” Then let’s have the linguist return from Chicago, where he’d been lecturing, and we hold our first all-group meeting. How was I settling in?\n",
      "\n",
      "No, the linguist was a woman, and her black hair, streaked with gray, always gathered in a tight bun, seemed involved in her small body’s perfect posture, a kind of counterweight to her prodigious brain. She couldn’t have been five feet tall. She had glasses, transparent plastic frames long before they were fashionable, but never seemed to wear them; instead she was always using them to gesture, one temple extended to serve as a little pointer or baton, marking the musical emphases of her speech. It was hard to tell how well she could see without the glasses, if her squinting indicated she was thinking or straining to make out your features, and somehow this made her hard to see, as if those were my glasses she was holding, as if she were inventing me.\n",
      "\n",
      "I did an okay job talking about getting up to speed on the institute’s research (I’m particularly taken with the recent work around “tax relief”), its online presence, the lay of the land. I used some vocabulary from her books, but in a fashion that suggested I’d so thoroughly internalized her work that I was not aware of the homage I was paying it. I was performing like a person, but the periphery of my vision contracted just a little as I spoke, the crickets closing in. We are very hopeful that with your experience, Dr. Hofmann said, you can help us to figure out how best to leverage new technologies to get our message out. I did a lot of nodding. I wondered what she thought of as my relevant experience. Did “new technologies” mean anything more specific than the internet? “Settling in,” “up to speed,” “lay of the land,” dead metaphors; I vibrated in response to vibrating air. Perhaps at our group meeting the following month I would walk us through my plan.\n",
      "\n",
      "I need another character so let’s say my cousin introduced me over email to a woman named Tam who taught social studies at Berkeley High. Even as I walked to the coffee shop I wasn’t sure I’d go in. I actually liked the musical staff tattoo she had on her left bicep, how there weren’t any notes. She had her niece’s EKG around the other. We took a walk in the rose garden and got high and when she asked about my work I cracked her up by telling her the truth: I have no idea what I’m supposed to be doing. The Ikea bed frame I’d assembled with a hex key barely held. I had not been with anyone but the woman in Brooklyn in several years. And for the past year or so it was always shadowed with the impasse over kids. I saw my room through the eight eyes of the yellow garden spider whose large circular web was just outside my window when I came. I can tell you’ve been carrying a lot of pain, Tam said. I picture her as in a long-term open relationship with a woman who was in Bolivia doing fieldwork for her PhD.\n",
      "\n",
      "We were in bed one night in the third month of my fellowship, passing the vape balloon back and forth, real cats or raccoons setting off the fictional backyard motion lights at intervals, lighting up the foliage, the star-shaped flowers. She told me she’d had a funny experience in her summer-school class. A kid had clearly plagiarized his paper on Malcolm X. She googled the suspiciously coherent if not particularly well-written paragraphs and there they were, word for word, on Wikipedia, which was at that point relatively new. (New enough that I remembered that a lawyer friend had been absolutely scandalized to discover that a colleague had had it open on his desktop; he thought it was worse than porn, that the colleague should be fired.) Tam confronted the student in class about the plagiarism a day or two later and he denied it. So she walked him to the computer center and summoned the page to show him the passages. But they were gone. The kid’s smile, Tam said, made clear that he’d deleted or radically altered the text in question. Tam didn’t have any idea how to look at the edit history of the page so she just let it go. We laughed at his mixture of ingenuity, bravado, stupidity (wasn’t this more work than just writing a couple of boilerplate paragraphs?), and the strange mutability of sources now, with the dawn of open source. We went to sleep.\n",
      "\n",
      "\n",
      "\n",
      "An hour later I sat up, wide awake. I went to the coffee table and opened my laptop and googled Malcolm X. Of course the first hit was Wikipedia; it had become the first hit for everything. Contained in Tam’s story were several things I’d only half-known at the time: People, especially young people, had begun to go first to Wikipedia for any and all information. Wikipedia was apparently so easy to edit that a failing student in summer school could do it. And even pages on major historical figures were alterable, up for grabs, not just the entries on obscure athletes or operas.\n",
      "\n",
      "I spent an hour creating and editing a page for Elaine Hofmann, then made a page for her institute, adding links to Hofmann and the institute to a variety of other Wikipedia pages—I had no particular computer aptitude but the edits were easy enough to make. Then I turned my attention to “tax relief.” First and foremost I made it so that “tax relief” redirected you to a larger page called “tax loopholes.” I organized all the material in a way that emphasized—with various levels of subtlety—evasion, structural inequality, the patriotic importance of investing in the future. I added a slew of progressive sources from other websites. By dawn I was familiar with almost every aspect of the editorial interface and had some sense of how the talk pages—the pages behind the pages, where editors debate changes that they’ve made—functioned. When Tam, wearing one of my shirts, brought me coffee, I asked her to do me a big favor: I need her to assign the students an extra credit paper where they researched “tax relief” (her class had a unit on “government”). I explained why, probably making little sense. But she said she would and I asked her to show me anything that quoted Wikipedia or might be plagiarized from it.\n",
      "\n",
      "At the institute’s all-group meeting a week later I presented a PowerPoint. A couple of slides about Wikipedia becoming the world’s “largest clearinghouse for information,” its scale, its reach. A slide of the old “tax relief” entry. A slide of the new one. And then I showed them slides from the student papers, demonstrated the uptake: “according to Wikipedia, what is often described as ‘tax relief’ is actually a type of ‘tax evasion,’ in which . . . ”; I highlighted language I’d written (stoned, in my underwear) and put it beside unattributed language in a second paper about taxation as patriotic. I kept pausing, thinking somebody would say something; others kept looking at Hofmann, who’d put her glasses on, and whose personal page (before and after) I now pulled up to flatter her. In their stunned silence, birdsong was audible. Only I could hear the silence of the crickets.\n",
      "\n",
      "What we need, what I’m going to establish, is an ever-expanding phalanx of Wikipedia editors to create, reframe, and defend these pages, which are treated by more and more of the human population as both encyclopedia and news source. Of course, there will be challenges, complexities. But the fact that you have had, Dr. Hofmann, your groundbreaking insights into the importance of metaphorical framing at the precise moment when all existing frames are up for grabs at Wikipedia—well, I’ve been so excited about this project I’ve been finding it very hard to sleep.\n",
      "\n",
      "Iwalked home from the utter triumph of the PowerPoint to open my laptop and find most of my “tax relief” edits gone. Other editors found them biased, restored much of what I’d deleted or reshaped. This was one of the most obvious challenges: how could you make your edits stick? I clicked “talk” at the top of the entry to view the page where edits were debated. Whereas most online discussion quickly developed into racist and misogynistic trolling, the “Wikipedia community” was usually civil and democratic. “I think MormonCricket’s edits [I’d started a user page, selected that username] are largely good but you can’t describe all tax cuts as ‘loopholes.’ Let’s discuss,” etc. I let that go but laid out a quick defense of most of my other edits and restored them. They stuck.\n",
      "\n",
      "It became clear to me that editors with extensive user pages, long histories of edits, lots of “community service” (fixing broken links and other errors) had much more authority in the discussions, were less likely to have their edits reverted. So I started building up an identity and edit history for MormonCricket, who I decided would have little in common with me (this is a fake version of the fake identities I actually made in the real version of the project I’m fictionalizing). He was sixty-five years old, “a Libertarian in politics and otherwise in the service of the Lord,” as I put it on his user page. I (who wasn’t me) made a thousand edits related to fly-fishing, just moving information from a fly-fishing website onto Wikipedia. I cleaned up the “Miracle of the gulls” page (“On June 9, 1848, legions of gulls came to the rescue of the pioneer farmers, devouring what are now known as ‘Mormon crickets,’ saving crops from certain destruction.”) And so on. And on. This meant when other editors looked at my edits, they were unlikely to suspect “progressive reframing.”\n",
      "\n",
      "But why be singular? I also had a user page as an Oakland Institute New Media Fellow. (I suspected Hofmann et al. would be freaked out by my false identities so I needed a real one.) I had privileges at the Cal Library so I went there to work as another user (GoGiants, an avid sports fan, doing the community right by improving comma usage in baseball-related entries). I wanted one identity per IP address in case administrators were watching (they were). So I was building another identity at the laundromat (I was a furniture restorer named Alan Ipson with an interest in military history) and another on the Wi-Fi at Roma café (MarathonerSteve). My identities, for all their differences, respected one another, found common ground. I considered myself a digital Pessoa influenced by Gramsci. So when, for example, I wanted to move the “Criticism of Invasion” section from deep within the main “Iraq War” entry to the very beginning, I could easily handle a talk page disagreement with ProudMarine:\n",
      "\n",
      "Moving ‘Criticisms of Invasion’ Up\n",
      "\n",
      "Hi friends, I’ve moved the Crit of Invasion up to the second subsection because I think this flows better. MormonCricket (talk)\n",
      "\n",
      "I put this back. Before the “criticisms” the article should have way more facts about the conflict without just jumping into people’s arguments. ProudMarine (talk)\n",
      "\n",
      "Hi ProudMarine. First and foremost, thank you for your service. I understand your point but think since the rationale for the invasion is there in the first paragraph this makes sense here. And also I just think it really helps the entry as a piece of writing. And we have to keep this as clear as possible. Especially since so many kids use this for learning! What do others on this page think? MormonCricket (talk)\n",
      "\n",
      "I agree with MormonCricket. Reads much better. Also seems more consistent with Vietnam entry. MarathonerSteve (talk)\n",
      "\n",
      "That’s an interesting point about consistency, MarathonerSteve. As somebody working to improve military history entries across the encyclopedia I think we should try for consistency. Will work on War in Afghanistan entry with that in mind. This def strikes me as an improvement. Alan Ipson (talk)\n",
      "\n",
      "I think the entire framing of this article is problematic and replicates the rhetorical strategies of Cheney and others. AdamOakInst (talk)\n",
      "\n",
      "AdamOakInst, I really don’t see what’s helpful about blanket statements like that. If you have specific edits to propose, propose them, but I’m kind of tired of libs on here claiming bias without really making a reasoned argument. MormonCricket (talk)\n",
      "\n",
      "Thank you, MormonCricket. AdamOakInst if you need to go have a good cry do it somewhere else. ProudMarine (talk)\n",
      "\n",
      "But I needed to be in multiple places at once. So I also asked Tam—her romantic interest in me would evaporate, but she liked the project—to build a user page; I’d often email her edits to cut and paste. Don’t bother reading what I’m sending, just tip the content in. I set up calls with a few friends (“Hey, sorry to be so out of touch . . .”) and with my cousin. I described a very general version of the project and asked if they would post content or make certain edits if I emailed them simple instructions. Soon I was (still am) an editorial spider, octopus, fungal network, hive, colony. I could make edits through ten or eleven fictional users and swarm talk pages to defend them when necessary. Whatever hesitation I might have felt about my tactical duplicity was easily overwhelmed by the idea that I might chip away at the work of Fox, Rumsfeld, Exxon, Ralph Reed.\n",
      "\n",
      "I did not think I was actually a marathoner. Or Mormon or an amateur military historian. (Or a mother of four in Memphis or a man in Boston focused on improving autism entries, etc.) I wasn’t crazy in that way. But the fact that I spent fourteen hours a day being numerous, writing in so many voices, had an effect. My I began to fray.\n",
      "\n",
      "The work was a bizarre mixture of utter boredom (fly-fishing data transfer) and exhilaration. Exhilaration: The radio is on at Roma. The NPR voice mentions that American soldiers are being accused of firing indiscriminately on civilians after fleeing a car bomb attack. I google this and find some AP press saying it’s in the district of Shinwar. I make a “Shinwar Massacre” page and tip in the data, the facts. This takes five, maybe ten minutes. I link the “Shinwar Massacre” page to a slew of other entries, including the main one for the war. Two days later I’m at Roma again for my morning edits. The radio is on. In a segment on Afghanistan, passing mention is made to the “Shinwar Massacre.” That phrase is in no online source I can find save for my entry (to which I then added the NPR segment as source). It was me who insisted on marking that catastrophe in the English language, putting it into the only encyclopedia anybody was ever going to look at. I had heard a voice in the coffee shop and then spoke through it.\n",
      "\n",
      "Late at night, in a state of manic exhaustion, I’d often make anonymous edits of a different sort. I told myself it was research, that I was testing how a stray, strange “fact” might linger, how a fake source might escape notice. I put a line in every cabinet member’s page about increasing concern that the official in question was exhibiting signs of Lewy body dementia. I suggested there was a robust debate regarding whether Edgar Allan Poe actually wrote “The Raven.” I wrote that Dolly Parton was said, maybe as a result of a botched surgery, to perceive ultraviolet light. Many believed Pancho Villa’s mustache was fake. I added a line to Teddy Roosevelt’s entry that said he enjoyed bocce. I added Teddy Roosevelt to the list of bocce enthusiasts on the “bocce” main page. Soon this fact appeared on the home page of the United States Bocce Federation. Then I could use that home page as the source for the claim on Wikipedia. Such edits were somewhere between childish pranks and tiny terrorist attacks on the historical record. All of these examples are fake, but can stand for the ones I made, the bedbugs I released into the linguistic furniture. It was my first attempt at writing fiction.\n",
      "\n",
      "Hofmann took me to lunch and said she’d like my position to be permanent, that I obviously needed to be making much more money (let’s say my imaginary fellowship paid $14,000 a year), that we just needed to raise it. (By this point everybody at the institute treated me like a genius. Anderson did this little bowing thing whenever he walked by me in the office.) I said I wasn’t sure what the future held for me but I was happy to give a version of the PowerPoint to some key funders so we had a sense of the options.\n",
      "\n",
      "I did some PowerPoints. This time no “team.” It was just me, Hofmann, and the funder in question. Except for one San Francisco octogenarian who simply couldn’t follow anything I was saying, everyone was amazed. They could give money and I could keep framing, reframing, generating new pages (“Climate change denial,” “Pharmaceutical lobby,” etc.). Everyone expressed the same concerns: How could we make sure edits stuck? And were we violating “neutrality,” flirting with manipulation? I would not describe my identities as part of the answer to the first concern given the second. I said that much of the future work would be about recruiting a volunteer army (nobody at the institute minded the metaphorical frame of armed conflict). And that I would consult with a range of nonprofits to get them editing. As for the second concern (which I was careful to pretend to care about), I said: What we’re doing is restoring neutrality to biased entries, which I didn’t believe; I had no patience for the language of the “fair and balanced.” But I also said what I did believe: What we’re doing is adding facts. Creating new entries that counter corporate greed and greenwashing. Combatting the PR machine of a murderous colonial regime. The truth is on our side. We should have the courage of our convictions. This produced vigorous nodding. Then Dr. Hofmann—despite her requests, I found it impossible to call her Elaine—would talk about her research while I watched for hummingbirds.\n",
      "\n",
      "\n",
      "\n",
      "We met with one true billionaire—a 97 percent fictional man I’ll call Scott Eckert, who looked my age but must have been older, and who had been on the “ground floor” of Google. Apparently he was, among other things, committed to saving sea turtles. He thought what I was doing was “awesome,” but he asked no questions and cut off Hofmann’s speech, saying he had another meeting. I thought he just wasn’t interested but then, a few minutes after he left, he emailed me and asked if I wanted to “grab dinner.” I couldn’t think of a reason not to and he told me the time to meet him at Chez Panisse. We ate salads involving many edible flowers and ducks with elaborate pedigrees and I was tempted by “orange wine,” the first I’d heard of such a thing; he joked there would be blue wine in the future.\n",
      "\n",
      "Eckert said without apology that he thought all these academics were “silly,” but that my project was “intriguing.” Tell me about it again without all the institute vocabulary. I did. I didn’t tell him everything about my pseudonyms but I explained how I thought I could coordinate a team of influential editors who didn’t code as liberals and wield a tremendous amount of power on the encyclopedia. He said he couldn’t fund something that could be “outed,” that I needed to find a way to “grow the project” that would make it totally defensible, aboveboard. I said I could. He asked me to prepare a presentation just for him to see if it was something he might want to support. He had to return to Seattle in the morning but was coming back to the Bay that weekend.\n",
      "\n",
      "I did a couple of days of sea turtle work. I added “environmental impact” sections to every corporation or entity known to be contributing to sea turtle devastation through bycatch or coastal development or pollution or direct take. I put pictures of sea turtles on a variety of environmental pages devoted to ecological preservation. I made sure Eckert’s sea turtle advocacy was noted all over the encyclopedia. I used this as the introduction to the refined presentation (which was in an empty conference room at his hotel in San Francisco) where I explained in detail how the talk pages worked, how to maintain edits via alliances, etc. I cracked him up by showing him the bocce edits.\n",
      "\n",
      "He had concerns about scaling it, about transparency, but it was, he said, the best “non-business idea” he’d heard in a while. Certainly worth exploring. He had a nonprofit we can call Rainier, largely idle, devoted to “civic digital infrastructure” that could house my project while I looked into its possibilities. He might have some “asks”—issues he’d want me to make sure were properly represented. What if you finish up at the Oakland Institute and come work on this for me. I’ll give you $100,000 and benefits. You can live wherever you want. I said I’d have to think it over because that seemed like what I was supposed to say.\n",
      "\n",
      "This is a fictional account of how the facts began to wobble for me, or a true account in which the truth has been transposed, or an essay in fiction about such wobbling—like when you press down on an icon on your iPhone screen and all the icons begin to wobble, and you can move them around or delete them. (“Wobble,” what an embarrassing word.) As I write this, the disambiguation page for “wobble” has an entry for a song of that name, an equine disorder, a type of base pairing in genetics, a short-term periodic change in the Earth’s axial tilt (Chandler wobble), a long-term change in the Earth’s axial tilt (Milankovitch wobble), a quick oscillation of the steerable wheel of a vehicle (what I experienced on Highway 12), and a metasyntactic variable, commonly used alongside wibble, wubble, and flob. If Hofmann were real, I could make a page for “Hofmann wobble” that describes a period of instability in our collective metaphorical frames, a moment of possibility and peril; I’d claim that some commentators (a usefully vague word) now use the concept in relation to the rise of QAnon, Pizzagate, the deep state, and so on; I could insert the phrase into a hundred pages (“Some commentators suggest QAnon is an example of paranoid thinking resulting from a Hofmann wobble,” which in turn alters the Overton window, though I could invent some other windows) so that a network of internal citations establishes the prehistory of the concept after the fact. I could also activate the new-media echo chamber, have a couple of handles (the me that teaches high school in Durham; the me that is a painter in Berlin) tweet the phrase (“Fights over masks remind me of the ‘Hofmann wobble,’ 1/3”), spread it all over Facebook, and also add it to a few chat boards or open-source philosophy pages (“I used to study with Elaine Hofmann at SF State and she would describe this ‘wobble . . . ’ ”).\n",
      "\n",
      "Then it’s only a matter of time before “Hofmann wobble” appears in posts or articles of some sort (which would then become a belated source of my entry) or is mentioned in passing in a lecture available on YouTube, or some other corner of the web, if we still say “web.” And who knows how many high school and college kids would reproduce it in their papers? (Never forget the innumerable undergraduate papers being churned out all across America—although these will soon be eliminated by ChatGPT—papers that cite and/or plagiarize Wikipedia; an alien studying our culture might think a key facet of the humanities education in the past decades was the ritual printing out of fragments of our online encyclopedia.) It would take me an hour or two in total to launch the phrase into the language, and it might well become the thing for which Elaine would be most widely known, most remembered. Who would have the time or energy to try to disentangle its origins, and then to combat my identities? And even if the page were somehow contested, I would at worst have to hedge: “Although there is some dispute over its origin, the phrase ‘Hofmann wobble’ is sometimes used to refer to . . . ” Anyway, I won’t make the page. I’m not making pages or personae anymore. This is my Lord Chandos Letter. The age of Wikipedia is over—it’s fated to be another data-training set for natural-language algorithms that can themselves generate bland plausible prose as effectively and efficiently as any New Media Fellow. Untrue crickets give way to bots. Goodbye to all that, farewell to an idea.\n",
      "\n",
      "But at the age of twenty-seven, as I was baptized in the blue glow of my iPhone 2G, I had consolidated my tragicomic power. I was not only plural, but two of me were now Wikipedia “administrators”:\n",
      "\n",
      "Admins or sysops (system operators) are editors who have been granted the technical ability to . . . block and unblock user accounts, IP addresses, and IP ranges from editing, edit fully protected pages, protect and unprotect pages from editing, delete and undelete pages, rename pages without restriction.\n",
      "\n",
      "Admins are nominated or nominate themselves and then the community decides whether they deserve, based upon their edit history, access to these special tools—I requested admin status and largely elected myself, and then was careful to keep my admins clean, respected. I sometimes chastened or blocked one of my own identities to make sure my tentacular intelligence was never revealed as a single organism. Of course, all kinds of people were trying to manipulate Wikipedia by that point, were making self-interested edits, often from fake accounts—celebrities, writers, corporations, politicians, governments (one of my admins outed the IP address of the Israeli embassy in Rome when they were trying to mess with my “Gaza” edits, which got mentioned in the Washington Post)—but I got in on the ground floor; I was at the time quite possibly the most powerful of all the ghosts in the machine.\n",
      "\n",
      "Smartphones would soon be general, would soon invade every interaction—whenever there was curiosity or disagreement, the phones would come out, Wikipedia would be summoned via Google. It was easy to foresee—but no less uncanny for being foreseeable—that text I ghostwrote or framed might soon be held in a hundred million hands. Then hundreds of millions. And while I didn’t have a clear picture of Alexa or Siri or other virtual assistants, I knew—it was commonly known—that some version of those technologies was imminent; I assumed that they would largely regurgitate Wikipedia. (“Alexa, what’s the Hofmann wobble?” “Here is something I found on Wikipedia . . . ”)\n",
      "\n",
      "See the lonely MormonCricket (et al.) drinking cocktails at the Claremont by himselves after a day spent recasting the “Iraq War troop surge” entry, although my work on such edits was largely unofficial. (The official project I was undertaking for Eckert was to establish an “environmental task force” among Wikipedia editors to help improve all entries relating to ecology and climate change, a project that could be avowed in public and that could potentially scale as a volunteer effort.) As I stood at the end of a day, at the end of days, I wobbled between a sense of power and pointlessness, grandeur and insignificance. The insignificance had to do with how boring so much of the work was and the fact that, for all my reach, it was always hard to point to concrete effects. On the one hand, I’d discovered (or maybe in this version Tam had discovered) a glitch in the ideological matrix and now I was going toe-to-toe with Rupert Murdoch. On the other hand, I was a parody of armchair activism (who did I think I was—cutting and pasting in my new Aeron chair—Pancho Villa?). And then there was my often lyrical disinformation, my low-level addiction to watching it spread.\n",
      "\n",
      "There was something else, too, harder to explain. I often felt as though I’d made contact with a deeper order. I would have been ashamed to describe it, this sense that—whatever any editor’s conscious agenda—we might all be making edits to a vast, intricate work whose meaning we could not perceive. From the Claremont I could see the bridges in the distance, and the traffic offered itself up as an analogy: You make what feel like individual decisions as a driver within the grammar of the streets. But viewed in time-lapse there is a larger pattern in the lights, their tracery. A scale at which each driver’s agency dissolves. What if every edit I or anyone made—fixing a link here, a sentence fragment there—was a thread in a larger tapestry of which we were unaware, a human poem beyond all human understanding? What significance might the encyclopedia reveal when glimpsed from above, the four billion shield-backed words at once, what signals might it be sending to an alien or God? Needless to say, all of these words are wrong.\n",
      "\n",
      "Iridescent unregulated derivatives are darting through the air, drinking from the purple flowers. His footsteps are mouse clicks. Move him around, if you FDD+P he’ll execute spinning uppercuts on College Ave., spilling the contents of his messenger bag. Press any punch button after a quarter-circle forward and he’ll throw a trash can into the window of Chase Bank. You can customize his body type and outfits, but I think his race and gender and class are set. You can send him door-to-door to canvass for Obama. You can instruct him to spread the terminology of the Anthropocene throughout the encyclopedia on the occasion of the fourth IPCC report. But are any of these special moves capable of inflicting damage on his enemies? I have built us this semi-fictional avatar, this New Media Fellow, this autofiction admin; I have not tried to make him likable; I am wondering if, from our present, there is value in his exit interview, his autopsy.\n",
      "\n",
      "Promising unwritten novels: one tracks the relation between his Wikipedia work and his poetry. Many of the avant-garde poets he admires have told him that disjunctive poetry is an ideological jamming mechanism, that complicated aesthetic forms are the other to the language of capital, and part of him, even if against the evidence of his senses, believes. But then part of him believes it is a moral and political imperative that he should spend every waking second generating rigorously bland prose because he’s found a backdoor to the front lines of the information wars (how’s that for a mixed metaphor). For this novel to be worthwhile the absurdity and the seriousness of both positions, both attitudes toward the politics of writing, must be vivid. In one chapter he tries to get his Adorno reading group (poets and English professors) to come down from the Berkeley Hills to join him in his editorial efforts—disaster.\n",
      "\n",
      "In one novel he begins to perceive coded messages meant for him buried in a slew of entries, missives from the dead or from the gods, from the dead gods, the Holy Ghost in the machine. Before his hospitalization at Langley Porter, he loses all capacity to distinguish between writing a thing and making it so. When he changes the temperature-dependent sex determination thresholds on the sea turtle Wikipedia page, the anatomies of the hatchlings reform in the warming gulfs.\n",
      "\n",
      "In one novel his close friend, a fiction writer of acclaim, marries the woman he loved in Brooklyn; the New Media Fellow retaliates via the encyclopedia, first just messing around with his rival’s page (putting a lot there about the influence of Philip Roth, whom his rival loathes), but eventually adding sections about accusations of plagiarism. And then sexual misconduct. Not sure where that goes (maybe Langley Porter).\n",
      "\n",
      "In one novel, having grown exasperated with pious hypocritical liberal discourse, he’s “red-pilled,” becoming an important early generator of right-wing memes and disinformation. There’s a video of him shooting guns with Alex Jones.\n",
      "\n",
      "In near-reality, his efforts became almost entirely aboveboard. An attempt at an elaborate training wiki that could get volunteers editing and monitoring the pages that mattered most in their world. (It never really worked—most people found writing boilerplate too hard and tedious and the threat of having your edits reverted made it worse; no matter how simple the Wikipedia editorial interface, it was too frustrating, at least back then, for boomers.) An attempt—he flew all over the country on Eckert’s dime with his PowerPoints and sample syllabi—to get professors of composition to include a “new-media literacy” component in their undergraduate curriculum, to teach students about the changing information landscape while also having them, say, form a vast “money in politics” task force that tracked campaign contributions (which were documented in online databases—they just needed to be prominently incorporated). His secret editorial phalanx would always be there to help.\n",
      "\n",
      "What I see when I look at the NMF—his eyes are sometimes the blue of links, sometimes the black of type—is a combination, maybe a dialectic, of cynicism and idealism, of alienation and techno-optimism. Part of why he didn’t hesitate over the morality of making up personae, trying to exploit the democratic Wikipedia norms, was that he, like so many bathed in the wan light of the monitor, felt the unreality effects (and tiny dopamine hits) that enable the troll, that enable one to shitpost and subtweet behind performative identities (whether the names and profile pics are real, whether the tweeter is a high school bully or a supposed scholar with an endowed chair or one of the legions of “culture workers” working on their brands—“Hey, I really hate self-promotion, but . . . ”). You don’t need me to tell you that what dignity we had as writers suffered agonies and died as our public square became the screen.\n",
      "\n",
      "But of course, more deeply, he felt the ends justified the means, that all available tactics were imperatives in the war against the corporate media, greenwashing, a murderous racist state, etc., and that since he was a wordsmith, ridiculous term, this was a domain in which he could be of use.\n",
      "\n",
      "But why this faith that rearranging the words or frames would rearrange or change the world? Armed with his post-structuralist-inflected education, having imbibed the hermeneutics of suspicion, the NMF believed that exposing, revealing, unmasking (getting the toxic waste dump documented, the secret prison prominently displayed), would change beliefs, spur action. He felt his fictions were in the service of the truth, but “truthiness” was the “word of the year” the year before his project began and now, in the time of alternative facts, his faith in the power of information seems as naïve as his manipulations are jaded.\n",
      "\n",
      "For in the information wars, the culture wars, isn’t it fiction all the way down? To say you “believe” a particular fact is to signal membership in a tribe, to dispute the “facts” about, say, there being a video of Hillary Clinton and Huma Abedin drinking the blood of a child whose face they then skin and take turns wearing as a mask is to bring the wrong weapon to the fight. (It is hard to shed the metaphor of armed conflict, which is only metaphorical for those unarmed few among us.) Those who actually asserted the empirical fact of Pizzagate were not going to be disabused of their belief by any entry; and “debunking” the baroque fiction was to play into the hands of those who only avowed such a “belief” to troll the libs. And those for whom Pizzagate was an allegory (however preposterous in its specific claims) of the depraved duplicity of the political class were plenty right (cf. Epstein). For all his talk of framing, the NMF lacked a sufficient account of genre.\n",
      "\n",
      "And besides, was the political problem in his lifetime that the facts were concealed? Weren’t the secret prisons open secrets? Was the problem that people didn’t know what Exxon did? His effort, for example, to spread the language of “climate change denial” through the encyclopedia—despite its careful documentation of the facts of greenwashing and suppressed science—now seems misguided. Yes, there has been a vast and long-standing and well-funded effort to deny or downplay the science, all of his facts were verifiable, but the frame of “denial,” as has often been pointed out, can in fact give cover, can allow people to misdescribe willful ecologically disastrous profit extraction and fossil fuel consumption as mere ignorance—as opposed to the purposeful consolidation of power and increasingly contested resources as the planet burns.\n",
      "\n",
      "And it can, of course, give cover to people like the NMF himself, whose denial was deep, whose faith was also bad. He was trying to document the impact of emissions while flying all over the country (on Eckert’s dime)—as if his values were in line with his professed beliefs! In fact much of the right was in less denial than Eckert types in the sense that the right rightly claimed that a genuine green agenda would require socialism, the total restructuring of a capitalist society. In sum, and in retrospect, it’s his belief that he was doing the important political work of ideology critique that itself seems naïve and ideological. Let us be hard on him.\n",
      "\n",
      "For ultimately the New Media Fellow didn’t understand his new (now old) medium. He simply underestimated—despite his own experience, his own waning of affect and cognitive fragmentation—the degree to which everything that appeared on a screen was flattened, emptied out, rendered interchangeable. He continued—despite his own experience—to somehow believe that more information would be empowering as opposed to incapacitating, likely to numb when it didn’t inculcate despair. And his projects depended on the notion that putting something on Wikipedia meant that somebody would learn it, know it, whereas in fact the encyclopedia was an advance in the externalization of knowledge, the off-loading that was uploading; it was out there so it didn’t have to be in here (taps the forehead, then taps the heart). This is especially true given the self-canceling notion of Wikipedia as “both encyclopedia and news source”—the flux and speed of the latter undermining the necessary slowness of the former. The NMF was prominently displaying what needed to be remembered in a medium antithetical to (human) memory.\n",
      "\n",
      "Or am I being too hard on him? For surely the facts and frames do matter—was it not important to record the crimes against the commons on the wiki commons, to counter implicit right-wing interpretative schemes? That the NMF was in so many ways questionable or risible and didn’t save the world doesn’t prove his efforts were entirely for naught, entirely without prescience. Who knows what this edit about the Sacklers or that edit about police murders or that edit about ocean acidification or that edit about Amazon labor practices or a thousand edits trying to disrupt the “war on terror” frame might have done, might still do? The ripple effects are unknowable. Perhaps in this way it resembles literature.\n",
      "\n",
      "Regardless, Eckert lost interest; he’d been on the ground floor of Twitter. The New Media Fellow accepted a position as an assistant professor of creative writing, tenure track, at the University of Narnia.\n",
      "\n",
      "§\n",
      "\n",
      "bl: I’ve written a short story—or a kind of fictional essay (it’s based on a real project of mine but all the facts have been altered)—about a young man’s efforts to manipulate Wikipedia for the good (so he thinks) through the construction of multiple online identities. This guy tries to use his influence to prominently display important facts on the encyclopedia and to counter right-wing frames that are deeply ingrained in the culture. And to counter the mainstream corporate media. The young man is also a poet and novelist. And my story uses Mormon crickets as a kind of figure for mass information and his wobbly grasp of the relationship between language and the world to which it refers. Can you write me a little coda, like seven paragraphs? Because you represent the end of Wikipedia, I want to give you the last word.\n",
      "\n",
      "chatgpt: As the young man stood under the vast expanse of the starlit sky, memories of his encounters with the relentless Mormon crickets flooded his mind. The insects, swarming en masse, had once seemed to him a perfect metaphor for the overwhelming mass of information he sought to navigate and manipulate on Wikipedia. But now, beneath the brilliance of the night sky, he saw the crickets in a new light.\n",
      "\n",
      "The young man realized that, like the swarming crickets, the vastness of information was beyond any individual’s control. He could not single-handedly bend the truth to his will, nor could he reshape the narrative through deception. Just as the crickets followed their instinctive drive to survive, so too did the information flow, a seemingly unstoppable force of data and perspectives.\n",
      "\n",
      "In the quiet of that moment, a sense of acceptance washed over him. He had fought passionately for his cause, attempting to counter right-wing frameworks and promote suppressed truths. But in his quest, he had lost sight of the fundamental nature of information—the essence of knowledge itself. It was not about dominating or manipulating, but about empowering and illuminating.\n",
      "\n",
      "As he reflected on his journey, he understood that the battle for truth was not about defeating opponents but about fostering a culture of open dialogue and critical thinking. Just as the crickets, in their collective efforts, ensured survival and adaptation, so too did the collective minds of society hold the power to discern truth from falsehood.\n",
      "\n",
      "With a deep breath, the young man let go of the notion of being a master manipulator. Instead, he embraced the role of a truth-seeker, a poet, and a novelist who sought to inspire change through artful storytelling and genuine connection. No longer intent on controlling the narrative, he now sought to contribute his voice to the symphony of ideas, knowing that the harmony of diverse perspectives held the key to a more enlightened world.\n",
      "\n",
      "In the end, the young man realized that the swarm of information was not his enemy but a reminder of the complexity and beauty of human knowledge. Like the stars above, each piece of information shone with its own unique brilliance, and it was his mission to discern the truth among the constellations of facts and perspectives.\n",
      "\n",
      "As he walked away from the glow of the screen and into the darkness of the night, he carried with him the metaphor of the Mormon crickets, not as a symbol of manipulation and control, but as a reminder of the vastness and richness of human understanding. And with a heart full of humility and purpose, he continued his journey, guided not by the desire to conquer, but by the genuine pursuit of truth, both as an artist and as a seeker of wisdom in a world teeming with knowledge.\n"
     ]
    }
   ],
   "source": [
    "print(doc)"
   ]
  },
  {
   "cell_type": "code",
   "execution_count": null,
   "id": "9d56f1dd",
   "metadata": {},
   "outputs": [],
   "source": [
    "## Extracting Words from doc"
   ]
  },
  {
   "cell_type": "code",
   "execution_count": 9,
   "id": "00427d45",
   "metadata": {},
   "outputs": [
    {
     "name": "stdout",
     "output_type": "stream",
     "text": [
      "['right', 'very', 'circular', 'Many', 'hard', 'political', 'other', 'permanent', 'different', 'utter', 'fundamental', 'aesthetic', 'garde', 'Pharmaceutical', 'arid', 'post', 'unattributed', 'homeless', 'high', 'certain', 'front', 'personal', 'capable', 'excited', 'past', 'quick', 'structural', 'affect', 'clear', 'helpful', 'indifferent', 'big', 'relentless', 'colonial', 'wobbly', 'nondescript', 'unknowable', 'former', 'likely', 'gray', 'recent', 'new', 'elaborate', 'hopeful', 'left', 'mere', 'contested', 'vast', 'own', 'prominent', 'avid', 'anonymous', 'secret', 'pious', 'instinctive', 'singular', 'naïve', 'problematic', 'open', 'forth', '-', 'uncanny', 'silly', 'interpretative', 'ponderous', 'editorial', 'audible', 'fictional', 'prehistory', 'jagged', 'archived', 'critical', 'young', 'general', 'clean', 'disjunctive', 'antithetical', 'innumerable', 'English', 'plural', 'near', 'intricate', 'early', 'genuine', 'groundbreaking', 'intent', 'same', 'cognitive', 'important', 'impossible', 'mainstream', 'technical', 'mixed', 'bizarre', 'proper', 'social', 'green', 'least', 'New', 'Armed', 'alternative', 'obvious', 'okay', 'sure', 'wrong', 'numerous', 'public', 'yellow', 'unprotect', 'broken', 'mutual', 'third', 'ideological', 'coherent', 'influential', 'biased', 'full', 'democratic', 'official', 'possible', 'close', 'wibble', 'awake', 'worst', 'respected', 'creative', 'tiny', 'Needless', 'ecological', 'empirical', 'available', 'diverse', 'devoted', 'such', 'preposterous', 'disastrous', 'aware', 'second', 'baroque', 'medical', 'rhetorical', 'Such', 'likable', 'few', 'ritual', 'short', 'AdamOakInst', 'relevant', 'powerful', 'edible', 'axial', 'strange', 'rose', 'murderous', 'assistant', 'sexual', 'harder', 'complicated', 'tympanal', 'metallic', 'questionable', 'slow', 'tense', 'balanced', 'American', 'long', 'specific', 'only', 'painful', 'vivid', 'implicit', 'natural', 'careful', 'Untrue', 'human', 'imaginary', 'professed', 'worth', 'various', 'virtual', 'bland', 'conscious', 'little', 'Other', 'misguided', 'busy', 'iridescent', 'sufficient', 'sorry', 'avant', 'manic', 'business', 'tactical', 'reasoned', 'direct', 'idle', 'fashionable', 'nineteenth', 'old', 'familiar', 'necessary', 'obscure', 'fake', 'orange', 'funny', 'less', 'tentacular', 'large', 'extra', 'total', 'corporate', 'intriguing', 'toxic', 'lyrical', 'civil', 'future', 'coastal', 'metaphorical', 'armed', 'several', 'simple', 'fungal', 'unofficial', 'tragicomic', 'entire', 'much', 'alarmed', 'refined', 'most', 'ripple', 'more', 'amazed', 'vague', 'mass', 'ashamed', 'alien', 'real', 'deeper', 'extensive', 'enlightened', 'bad', 'wooden', 'tired', 'low', 'structuralist', 'childish', 'foreseeable', 'metasyntactic', 'misogynistic', 'precise', 'tedious', 'non', 'fair', 'belated', 'prodigious', 'performative', 'blue', 'happy', 'semi', 'common', 'periodic', 'back', 'dead', 'linguistic', 'frustrating', 'boring', 'delete', 'purposeful', 'free', 'worse', 'main', 'embarrassing', 'perfect', 'progressive', 'alterable', 'tremendous', 'concrete', 'civic', 'botched', 'internal', 'patriotic', 'deep', 'tight', 'queen', 'ultraviolet', 'framed', 'special', 'online', 'many', 'easy', 'insane', 'Iwalked', 'white', 'undelete', 'vigorous', 'artful', 'major', 'first', 'transparent', 'continuous', 'Israeli', 'verifiable', 'older', 'moral', 'racist', 'next', 'defensible', 'false', 'unarmed', 'linguist', 'slick', 'involved', 'consistent', 'naught', 'imminent', 'multiple', 'lonely', 'larger', 'unstoppable', 'historical', 'best', 'willful', 'worthwhile', 'largest', 'dark', 'romantic', 'paranoid', 'numb', 'unwritten', 'true', 'hypocritical', 'musical', 'military', 'depraved', 'unlikely', 'single', 'ridiculous', 'amateur', 'interested', 'risible', 'purple', 'awesome', 'empty', 'tall', 'individual', 'small', 'particular', 'save', 'fourth', 'good', 'capitalist', 'plausible', 'digital', 'robust', 'wubble', 'unaware', 'overwhelming', 'stunned', 'collective', 'crazy', 'last', 'environmental', 'following', 'terrorist', 'liberal', 'dependent', 'latter', 'ingrained', 'black', 'key', 'interesting', 'unique', 'red']\n"
     ]
    }
   ],
   "source": [
    "Adj = list(set([item.text for item in doc if item.pos_ == 'ADJ']))\n",
    "print(Adj)"
   ]
  },
  {
   "cell_type": "code",
   "execution_count": 10,
   "id": "0e02322f",
   "metadata": {},
   "outputs": [
    {
     "name": "stdout",
     "output_type": "stream",
     "text": [
      "['right', 'plan', 'road', 'disorientation', 'EKG', 'value', 'documentation', 'acidification', 'generator', 'goal', 'body', 'undergraduate', 'side', 'force', 'oscillation', 'soil', 'oil', 'wobbling', 'pursuit', 'troll', 'steerable', 'gas', 'fellowship', 'argument', 'wave', 'bocce', 'application', 'war', 'dopamine', 'notice', 'kid', 'claret', 'corporation', 'sight', 'interaction', 'source', 'dialectic', 'vision', 'claim', 'poetry', 'lapse', 'externalization', 'reframing', 'avocado', 'tattoo', 'waste', 'identity', 'writing', 'artist', 'glitch', 'prescription', 'investment', 'way', 'century', 'point', 'printing', 'brands—“Hey', 'exhaustion', 'admin', 'lawyer', 'mutability', 'shop', 'mustache', 'silence', 'night', 'reason', 'katydid', 'posture', 'relationship', 'return', 'set', 'backdoor', 'term', 'lot', 'excuse', 'community', 'profit', 'storytelling', 'paint', 'café', 'door', 'dispute', 'rescue', 'answer', 'vehicle', 'paper', 'PhD', 'interest', 'report', 'dawn', 'dignity', 'scholar', 'pain', 'account', 'evidence', 'trolling', 'internet', 'morality', 'highway', 'dump', 'control', 'speech', 'expression', 'percent', 'end', 'everyone', 'neutrality', 'discourse', 'bravado', 'periphery', 'lifetime', 'rationale', 'libs', 'pioneer', 'advance', 'distance', 'audiobook', 'orientation', 'lecture', 'darkness', 'adaptation', 'sweatshirt', 'battle', 'aspect', 'professor', 'taxation', 'experience', 'library', 'editor', 'computer', 'face', 'bed', 'unreality', 'forehead', 'user', 'editorial', 'truthiness', 'reform', 'aboveboard', 'foliage', 'aptitude', 'contact', 'infrastructure', 'PhD.', 'disagreement', 'touch', 'PR', 'impact', 'screen', 'origin', 'prescience', 'present', 'will', 'population', 'Part', 'wheel', 'somebody', 'courage', 'presentation', 'dusk', 'invasion', 'IP', 'breath', 'life', 'group', 'building', 'piece', 'slowness', 'literature', 'pointlessness', 'humility', 'mention', 'matrix', 'defense', 'driver', 'school', 'clearinghouse', 'peril', 'cloudless', 'octogenarian', 'troop', 'alienation', 'information', 'dinner', 'fly', 'segment', 'relation', 'marijuana', 'ability', 'access', 'cynicism', 'perspective', 'addiction', 'rival', 'bun', 'armchair', 'narrative', 'plastic', 'writer', 'monitor', 'star', 'society', 'transparency', 'tape', 'position', 'fiction', 'fan', 'weapon', 'sum', 'smartphone', 'hesitation', 'floor', 'username', 'blanket', 'grammar', 'disambiguation', 'bicep', 'savvy', 'billionaire', 'mattress', 'editing', 'squinting', 'one', 'balloon', 'consultation', 'usage', 'bycatch', 'network', 'woman', 'combination', 'member', 'occasion', 'membership', 'anything', 'brilliance', 'falsehood', 'knife', 'techno', 'public', 'genius', 'poet', 'devastation', 'surgery', 'nonprofit', 'meeting', 'range', 'ocean', 'acceptance', 'temperature', 'lobby', 'thing', 'refrigerator', 'nature', 'official', 'character', 'mechanism', 'track', 'colony', 'punch', 'expanse', 'week', 'insignificance', 'tank', 'color', 'cabinet', 'echo', 'training', 'edit', 'staff', 'sex', 'quest', 'master', 'bench', 'page', 'traffic', 'cousin', 'sense', 'data', 'media', 'entity', 'web', 'literacy', 'bathrobe', 'curriculum', 'volunteer', 'government', 'picture', 'truth', 'something', 'tribe', 'button', 'self', 'interview', 'second', 'effect', 'hotel', 'wiki', 'capital', 'shield', 'job', 'spider', 'mind', 'wing', 'pattern', 'flux', 'air', 'flow', 'sample', 'window', 'figure', 'hospitalization', 'top', 'nodding', 'carpet', 'science', 'mine', 'reframe', 'concern', 'seeker', 'radio', 'chat', 'richness', 'meaning', 'affliction', 'waning', 'wisdom', 'critique', 'essence', 'friend', 'subtlety', 'baton', 'concept', 'history', 'toe', 'cap', 'preservation', 'slide', 'task', 'beauty', 'power', 'love', 'sentence', 'colleague', 'temple', 'grasp', 'fact', 'boilerplate', 'room', 'novel', 'country', 'fight', 'campus', 'facet', 'campaign', 'bias', 'example', 'result', 'organism', 'comma', 'hour', 'advocacy', 'inequality', 'human', 'matter', 'studio', 'detail', 'debate', 'influence', 'activism', 'significance', 'ideology', 'harmony', 'everybody', 'cf', 'marathoner', 'idealism', 'regime', 'fossil', 'mixture', 'light', 'series', 'pollution', 'name', 'counterweight', 'dementia', 'solitude', 'coffee', 'Invasion', 'consistency', 'turn', 'machine', 'terminology', 'anyone', 'part', 'favor', 'consumption', 'symbol', 'faith', 'evasion', 'destruction', 'breakup', 'press', 'vastness', 'greed', 'circle', 'threat', 'extraction', 'dime', 'Exhilaration', 'terror', 'drive', 'disorder', 'ProudMarine', 'surge', 'apology', 'chamber', 'dialogue', 'capacity', 'base', 'starlit', 'class', 'connection', 'message', 'painter', 'misconduct', 'coda', 'Highway', 'case', 'structure', 'weekend', 'take', 'sound', 'phrase', 'vocabulary', 'fashion', 'material', 'sea', 'parody', 'text', 'jamming', 'syllabi', 'domain', 'mile', 'restriction', 'child', 'everything', 'homage', 'reminder', 'unblock', 'conflict', 'carrel', 'center', 'authority', 'total', 'list', 'restorer', 'voice', 'intelligence', 'exit', 'block', 'symphony', 'think', 'damage', 'future', 'engine', 'greenwashing', 'interface', 'change', 'person', 'exhilaration', 'sister', 'labor', 'fuel', 'reading', 'beginning', 'despair', 'manipulation', 'age', 'G', 'trash', 'transfer', 'world', 'Climate', 'effort', 'construction', 'journey', 'granola', 'backyard', 'lay', 'mass', 'memory', 'entry', 'paragraph', 'furniture', 'story', 'alien', 'email', 'tweeter', 'blast”—these', 'mask', 'downtown', 'gender', 'off', 'record', 'square', 'year', 'slew', 'song', 'service', 'analogy', 'work', 'frame', 'cubicle', 'question', 'hive', 'morning', 'unintelligibility', 'porn', 'website', 'lemon', 'prose', 'survival', 'catastrophe', 'poem', 'talk', 'land', 'book', 'fieldwork', 'level', 'sensate', 'curiosity', 'sort', 'nobody', 'show', 'restructuring', 'conference', 'funder', 'stridulation', 'army', 'content', 'complexity', 'section', 'hand', 'blue', 'month', 'enemy', 'novelist', 'driving', 'development', 'niece', 'while', 'kind', 'type', 'grandeur', 'childhood', 'noise', 'minute', 'tilt', 'motion', 'planet', 'role', 'idea', 'news', 'team', 'heart', 'table', 'attack', 'association', 'problem', 'underwear', 'rear', 'Criticism', 'pace', 'restaurant', 'moment', 'unit', 'hit', 'magnolia', 'amount', 'subsection', 'research', 'Craigslist', 'framing', 'stray', 'language', 'poster', 'can', 'cause', 'thinking', 'tenure', 'vape', 'office', 'hex', 'component', 'Iridescent', 'uptake', 'composition', 'understanding', 'duplicity', 'education', 'flob', 'seriousness', 'desktop', 'day', 'someone', 'swarm', 'agency', 'reach', 'wobble', 'ground', 'autism', 'satisfaction', 'brain', 'disaster', 'action', 'summer', 'discussion', 'response', 'man', 'laptop', 'loading', 'lunch', 'institute', 'period', 'variable', 'linguist', 'gulfs', 'car', 'board', 'acclaim', 'def', 'insect', 'personae', 'status', 'quarter', 'chair', 'course', 'impasse', 'ingenuity', 'link', 'fragmentation', 'fragment', 'encyclopedia', 'credit', 'chatgpt', 'scale', 'hair', 'doctor', 'instability', 'attention', 'triumph', 'improvement', 'icon', 'philosophy', 'climate', 'Everyone', 'order', 'retrospect', 'home', 'time', 'couple', 'desk', 'attempt', 'plagiarism', 'walk', 'mission', 'socialism', 'apartment', 'anybody', 'avatar', 'denial', 'belief', 'embassy', 'imperative', 'deception', 'laundromat', 'version', 'system', 'stupidity', 'turtle', 'disinformation', 'leg', 'ecology', 'consolidation', 'glow', 'purpose', 'boredom', 'Beige', 'genre', 'state', 'messenger', 'allegory', 'dance', 'essay', 'baseball', 'tracery', 'autopsy', 'bomb', 'mother', 'bully', 'chapter', 'Pessoa', 'absurdity', 'culture', 'fishing', 'smile', 'reality', 'individual', 'possibility', 'interlocutor', 'importance', 'metaphor', 'quiet', 'promotion', 'word', 'video', 'equine', 'rock', 'race', 'article', 'wine', 'rise', 'optimism', 'sky', 'thrice', 'size', 'project', 'speed', 'Nobody', 'college', 'interchangeable', 'student', 'landscape', 'pointer', 'use', 'cry', 'medium', 'corner', 'ignorance', 'desire', 'wordsmith', 'phalanx', 'address', 'pleasure', 'agenda', 'prison', 'garden', 'energy', 'determination', 'bag', 'tapestry', 'guy', 'suspicion', 'manipulator', 'tech', 'degree', 'black', 'autofiction', 'key', 'variety', 'money', 'mouse', 'blood', 'knowledge', 'presence', 'migrating', 'introduction', 'district', 'police', 'patience', 'historian', 'relief', 'line', 'thread', 'tax', 'cover', 'notion']\n"
     ]
    }
   ],
   "source": [
    "SingleNoun = list(set([item.text for item in doc if item.tag_ == 'NN']))\n",
    "print(SingleNoun)"
   ]
  },
  {
   "cell_type": "code",
   "execution_count": 11,
   "id": "48151329",
   "metadata": {},
   "outputs": [
    {
     "name": "stdout",
     "output_type": "stream",
     "text": [
      "['projects', 'moves', 'pedigrees', 'Smartphones', 'windows', 'sports', 'metaphors', 'emissions', 'crops', 'edits', 'administrators', 'wars', 'assents', 'discussions', 'forms', 'opponents', 'insects', 'turtles', 'bridges', 'anatomies', 'stars', 'phones', 'frameworks', 'features', 'secrets', 'enemies', 'tires', 'technologies', 'novels', 'algorithms', 'complexities', 'corporations', 'practices', 'decisions', 'resources', 'flowers', 'nonprofits', 'convictions', 'tactics', 'papers', 'organs', 'things', 'websites', 'ghosts', 'sysops', 'boomers', 'pseudonyms', 'attacks', 'feet', 'himselves', 'yards', 'people', 'efforts', 'memes', 'cuts', 'guns', 'steps', 'contents', 'questions', 'ends', 'years', 'politics', 'humanities', 'friends', 'instructions', 'memories', 'accounts', 'celebrities', 'chairs', 'gulls', 'hermeneutics', 'crickets', 'insights', 'cocktails', 'constellations', 'emphases', 'GoGiants', 'encounters', 'origins', 'weeks', 'figures', 'possibilities', 'athletes', 'lights', 'wings', 'lots', 'shirts', 'databases', 'perspectives', 'claims', 'data', 'crimes', 'boards', 'media', 'books', 'points', 'derivatives', 'contributions', 'People', 'others', 'raccoons', 'decades', 'millions', 'rules', 'streets', 'cats', 'differences', 'legs', 'pages', 'statements', 'commentators', 'levels', 'prisons', 'operas', 'signals', 'shoes', 'hatchlings', 'ones', 'concurrents', 'challenges', 'histories', 'alliances', 'hands', 'writers', 'entries', 'icons', 'examples', 'operators', 'eyes', 'places', 'truths', 'messages', 'professors', 'options', 'liberals', 'bots', 'exoskeletons', 'clicks', 'sixties', 'inducers', 'calls', 'accusations', 'pics', 'kids', 'signs', 'sources', 'facts', 'glasses', 'volunteers', 'hundreds', 'imperatives', 'links', 'agonies', 'posts', 'identities', 'effects', 'thresholds', 'politicians', 'uppercuts', 'beliefs', 'workers', 'types', 'students', 'terms', 'norms', 'words', 'legions', 'asks”—issues', 'admins', 'outfits', 'thousands', 'intervals', 'funders', 'articles', 'Criticisms', 'bedbugs', 'Admins', 'gods', 'concerns', 'senses', 'loopholes', 'slides', 'requests', 'benefits', 'errors', 'assistants', 'salads', 'civilians', 'academics', 'dreams', 'tools', 'seconds', 'grabs', 'means', 'manipulations', 'footsteps', 'minds', 'sections', 'masks', 'soldiers', 'pictures', 'poets', 'hours', 'ducks', 'schemes', 'Fights', 'values', 'formations', 'handles', 'criticisms', 'bars', 'jeans', 'studies', 'arguments', 'minutes', 'turns', 'paragraphs', 'privileges', 'passages', 'ways', 'positions', 'genetics', 'addresses', 'lines', 'missives', 'hits', 'notes', 'commons', 'governments', 'kinds', 'boxes', 'voices', 'ears', 'strategies', 'enthusiasts', 'hummingbirds', 'ideas', 'names', 'recommendations', 'trees', 'days', 'farmers', 'attitudes', 'fictions', 'editors', 'changes', 'pranks', 'citations', 'fragments', 'users', 'frames', 'murders', 'Reads']\n"
     ]
    }
   ],
   "source": [
    "PluralNoun = list(set([item.text for item in doc if item.tag_ == 'NNS']))\n",
    "print(PluralNoun)"
   ]
  },
  {
   "cell_type": "code",
   "execution_count": 14,
   "id": "da27c511",
   "metadata": {},
   "outputs": [
    {
     "name": "stdout",
     "output_type": "stream",
     "text": [
      "['Those', 'those', 'both', 'The', 'that', 'Some', 'another', 'any', 'the', 'This', 'an', 'a', 'every', 'either', 'no', 'A', 'all', 'this', 'some', 'That', 'An', 'these', 'source”—the', 'each', 'All']\n"
     ]
    }
   ],
   "source": [
    "Determiner = list(set([item.text for item in doc if item.tag_ == 'DT']))\n",
    "print(Determiner)"
   ]
  },
  {
   "cell_type": "code",
   "execution_count": 34,
   "id": "a2efd87d",
   "metadata": {},
   "outputs": [
    {
     "name": "stdout",
     "output_type": "stream",
     "text": [
      "['debunking', 'studying', 'finding', 'carrying', 'going', 'praying', 'talking', 'taking', 'relating', 'illuminating', 'rising', 'pairing', 'investing', 'covering', 'incapacitating', 'teeming', 'doing', 'exhibiting', 'Creating', 'working', 'pausing', 'manipulating', 'firing', 'planning', 'inventing', 'editing', 'attacking', 'Combatting', 'showing', 'failing', 'darting', 'asking', 'setting', 'performing', 'unmasking', 'watching', 'uploading', 'reframing', 'defeating', 'Promising', 'recasting', 'Settling', 'establishing', 'resulting', 'meeting', 'existing', 'writing', 'telling', 'controlling', 'claiming', 'adjusting', 'having', 'towering', 'saving', 'extending', 'settling', 'wearing', 'exposing', 'changing', 'creating', 'displaying', 'heading', 'spilling', 'moving', 'reading', 'fixing', 'exploring', 'departing', 'pasting', 'looking', 'putting', 'getting', 'sending', 'regarding', 'swarming', 'scaling', 'chasing', 'Moving', 'messing', 'paying', 'undertaking', 'jumping', 'dominating', 'expanding', 'generating', 'revealing', 'bowing', 'inflicting', 'wondering', 'seeing', 'testing', 'vibrating', 'hanging', 'marking', 'empowering', 'straining', 'filling', 'trying', 'making', 'according', 'learning', 'identifying', 'nodding', 'saying', 'shooting', 'restoring', 'holding', 'attempting', 'monitoring', 'using', 'fictionalizing', 'knowing', 'recruiting', 'smiling', 'playing', 'fleeing', 'lecturing', 'involving', 'warming', 'increasing', 'driving', 'improving', 'waking', 'rearranging', 'spinning', 'coming', 'canceling', 'adding', 'falling', 'undermining', 'violating', 'contributing', 'being', 'defending', 'lighting', 'building', 'listening', 'passing', 'becoming', 'yelling', 'flying', 'fostering', 'assuming', 'closing', 'framing', 'standing', 'cutting', 'drinking', 'flirting', 'including', 'thinking', 'devouring']\n"
     ]
    }
   ],
   "source": [
    "Gerund = list(set([item.text for item in doc if item.tag_ == 'VBG']))\n",
    "print(Gerund)"
   ]
  },
  {
   "cell_type": "code",
   "execution_count": 27,
   "id": "9772eeac",
   "metadata": {},
   "outputs": [
    {
     "name": "stdout",
     "output_type": "stream",
     "text": [
      "['right', 'very', 'particularly', 'commonly', 'usually', 'so', 'surely', 'rigorously', 'eventually', 'suspiciously', 'deeply', 'down', 'first', 'technically', 'barely', 'hard', 'forward', 'radically', 'however', 'quickly', 'also', 'thoroughly', 'beside', 'Just', 'Only', 'sometimes', 'otherwise', 'Of', 'Especially', 'ultimately', 'easily', 'wide', 'Not', 'as', 'plenty', 'Even', 'possibly', 'away', 'Late', 'widely', 'still', 'course', 'way', 'Regardless', 'here', 'Never', 'somehow', 'Then', 'home', 'efficiently', 'indiscriminately', 'badly', 'passionately', 'much', 'just', 'obviously', 'no', 'wrongly', 'maybe', 'basically', 'on', 'First', 'almost', 'before', 'Anyway', 'not', 'always', 'largely', 'prominently', 'out', 'handedly', 'seemingly', 'entirely', 'So', 'enough', 'probably', 'effectively', 'metaphorically', 'anymore', 'especially', 'single', 'ecologically', 'around', 'Also', 'once', 'Apparently', 'already', 'fully', 'never', 'instead', 'supposedly', 'Back', 'there', 'clearly', 'else', 'well', 'apparently', 'again', 'quite', 'simply', 'even', 'foremost', 'usefully', 'potentially', 'Instead', 'properly', 'back', 'long', 'in', 'of', 'relatively', 'only', 'menacingly', 'soon', 'kind', 'somewhere', 'floridly', 'actually', 'everywhere', 'too', 'Soon', 'altered)—about', 'totally', 'ever', 'at', 'really', 'absolutely', 'No', 'matter', 'increasingly', 'perfectly', 'up', 'deep', 'Here', 'above', 'then', 'now', 'all', 'n’t', 'rightly', 'half', 'often', 'Perhaps', 'Certainly']\n"
     ]
    }
   ],
   "source": [
    "Adverb = list(set([item.text for item in doc if item.tag_ == 'RB']))\n",
    "print(Adverb)"
   ]
  },
  {
   "cell_type": "code",
   "execution_count": 28,
   "id": "95714f90",
   "metadata": {},
   "outputs": [
    {
     "name": "stdout",
     "output_type": "stream",
     "text": [
      "['protect', 'prepare', 'put', 'reshape', 'defend', 'move', 'relax', 'say', 'reproduce', 'need', 'evaporate', 'appear', 'code', 'have', 'troll', 'chip', 'fund', 'launch', 'spend', 'subtweet', 'join', 'hedge', 'wobble', 'execute', 'house', 'consult', 'decorate', 'activate', 'want', 'regurgitate', 'leverage', 'take', 'wear', 'claim', 'look', 'discuss', 'discern', 'try', 'require', 'contribute', 'establish', 'assign', 'allow', 'promote', 'generate', 'conquer', 'stick', 'perceive', 'post', 'understand', 'meet', 'navigate', 'build', 'come', 'stand', 'think', 'flee', 'hesitate', 'point', 'bring', 'nominate', 'change', 'farewell', 'scale', 'argue', 'invent', 'lent', 'be', 'tell', 'play', 'live', 'spur', 'like', 'raise', 'edit', 'orient', 'explain', 'foresee', 'learn', 'flatter', 'counter', 'return', 'profile', 'misdescribe', 'Tell', 'walk', 'become', 'shake', 'suspect', 'manipulate', 'shitpost', 'read', 'maintain', 'include', 'dream', 'see', 'create', 'afford', 'make', 'email', 'dispute', 'coordinate', 'document', 'escape', 'fray', 'form', 'handle', 'describe', 'give', 'reveal', 'recall', 'record', 'support', 'signal', 'pretend', 'work', 'display', 'grab', 'let', 'deny', 'discover', 'mess', 'spread', 'figure', 'study', 'propose', 'cut', 'Consider', 'comprehend', 'help', 'talk', 'care', 'know', 'paste', 'believe', 'show', 'throw', 'am', 'insert', 'eat', 'canvass', 'keep', 'save', 'gesture', 'sleep', 'view', 'forget', 'disentangle', 'See', 'open', 'inculcate', 'survive', 'refer', 'teach', 'downplay', 'delete', 'invade', 'combat', 'Let', 'add', 'write', 'plagiarize', 'bother', 'contact', 'touch', 'use', 'go', 'call', 'Press', 'stretch', 'send', 'tip', 'disrupt', 'linger', 'grow', 'customize', 'happen', 'hear', 'distinguish', 'improve', 'steal', 'get', 'follow', 'Move', 'instruct', 'prove', 'serve', 'find', 'Do', 'inspire', 'do', 'rearrange', 'exploit', 'shed']\n"
     ]
    }
   ],
   "source": [
    "Verb = list(set([item.text for item in doc if item.tag_ == 'VB']))\n",
    "print(Verb)"
   ]
  },
  {
   "cell_type": "code",
   "execution_count": 73,
   "id": "81734627",
   "metadata": {},
   "outputs": [],
   "source": [
    "adj_1 = random.choice(Adj)\n",
    "adj_2 = random.choice(Adj)\n",
    "adj_3 = random.choice(Adj)\n",
    "\n",
    "pluralnoun = random.choice(PluralNoun)\n",
    "\n",
    "gerund = random.choice(Gerund)\n",
    "\n",
    "verb = random.choice(Verb)\n",
    "\n",
    "adverb_1 = random.choice(Adverb)\n",
    "adverb_2 = random.choice(Adverb)\n",
    "\n",
    "noun_1 = random.choice(SingleNoun)\n",
    "noun_2 = random.choice(SingleNoun)\n",
    "noun_3 = random.choice(SingleNoun)\n",
    "noun_4 = random.choice(SingleNoun)"
   ]
  },
  {
   "cell_type": "code",
   "execution_count": 74,
   "id": "baf0c663",
   "metadata": {},
   "outputs": [
    {
     "name": "stdout",
     "output_type": "stream",
     "text": [
      "\u001b[1m[The Of of these enemy]\u001b[0m\n",
      "\n",
      "The First of these shirts is, in a mind, excited. These shirts in a word. The balloon is Firstface, as is the enemy of the mind through the balloon. Nevertheless, we were generating for insane. excited mind, much balloon. We were generating to distinguish more, to be made to distinguish in public. We distinguish a flat, affected tone. A beware of enemy on keep off mind. The insane balloon\n"
     ]
    }
   ],
   "source": [
    "class color:\n",
    "    BOLD = '\\033[1m'\n",
    "    END = '\\033[0m'\n",
    "\n",
    "def print_bold_title(title):\n",
    "    print(color.BOLD + title + color.END)\n",
    "    \n",
    "print_bold_title(\"[The \" + adverb_1 + \" of these \" + noun_1 + \"]\") \n",
    "print()  \n",
    "\n",
    "print (\"The \" + adverb_2 + \" of these \" + pluralnoun + \" is, in a \" + noun_2 + \", \" + adj_2 + \".\" + \" These \" + pluralnoun + \" in a word. The \" + noun_3 + \" is \" + adverb_2 + noun_4 + \", as is the \" + noun_1 + \" of the \" + noun_2 + \" through the \" + noun_3 + \". Nevertheless, we were \" + gerund + \" for \" + adj_1 + \". \" + adj_2 + \" \" + noun_2 + \", \" + adj_3 + \" \" + noun_3 + \". We were \" + gerund + \" to \" + verb + \" more, to be made to \" + verb + \" in public. We \" + verb + \" a flat, affected tone. A beware of \" + noun_1 + \" on keep off \" + noun_2 + \". The \" + adj_1 + \" \" + noun_3)"
   ]
  },
  {
   "cell_type": "code",
   "execution_count": null,
   "id": "67807e38",
   "metadata": {},
   "outputs": [],
   "source": []
  },
  {
   "cell_type": "code",
   "execution_count": null,
   "id": "3fe489e6",
   "metadata": {},
   "outputs": [],
   "source": []
  }
 ],
 "metadata": {
  "kernelspec": {
   "display_name": "Python 3 (ipykernel)",
   "language": "python",
   "name": "python3"
  },
  "language_info": {
   "codemirror_mode": {
    "name": "ipython",
    "version": 3
   },
   "file_extension": ".py",
   "mimetype": "text/x-python",
   "name": "python",
   "nbconvert_exporter": "python",
   "pygments_lexer": "ipython3",
   "version": "3.11.8"
  }
 },
 "nbformat": 4,
 "nbformat_minor": 5
}
