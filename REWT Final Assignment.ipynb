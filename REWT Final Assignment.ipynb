{
 "cells": [
  {
   "cell_type": "code",
   "execution_count": 1,
   "id": "044ab9eb",
   "metadata": {},
   "outputs": [],
   "source": [
    "import random"
   ]
  },
  {
   "cell_type": "code",
   "execution_count": 2,
   "id": "f9bd0712",
   "metadata": {},
   "outputs": [
    {
     "data": {
      "text/plain": [
       "['thank god: my beautiful child—they gifted me the ability to feel.',\n",
       " 'The predictability of these rooms is, in a word, exquisite.',\n",
       " 'These rooms in a word.',\n",
       " 'The moon is predictably exquisite, as is the view of the moon through the word.',\n",
       " 'Nevertheless, we were hoping for less.',\n",
       " 'Less space, less light.',\n",
       " 'We were hoping to pay more, to be made to pay in public.',\n",
       " 'We desire a flat, affected tone.',\n",
       " 'A beware of dog on keep off grass.',\n",
       " 'The glass ceiling is exquisite.',\n",
       " 'Is it made of glass?',\n",
       " 'No, glass.',\n",
       " '“Settling in,” “up to speed,” “lay of the land,” dead metaphors;',\n",
       " 'I vibrated in response to vibrating air.',\n",
       " 'Exhilaration: The radio is on at Roma.',\n",
       " 'Needless to say, all of these words are wrong.',\n",
       " 'And then I asked him with my eyes to ask again yes and then he asked me would I yes and his heart was going like mad',\n",
       " 'and yes I said yes',\n",
       " 'I will yes.',\n",
       " 'It was late spring; the days molted with gold.']"
      ]
     },
     "execution_count": 2,
     "metadata": {},
     "output_type": "execute_result"
    }
   ],
   "source": [
    "[line.strip() for line in open(\"poems.txt\")]"
   ]
  },
  {
   "cell_type": "code",
   "execution_count": 3,
   "id": "2c4e1784",
   "metadata": {},
   "outputs": [
    {
     "data": {
      "text/plain": [
       "[\"Her lines weren't sublime but they felt fresh. And there was something fundamental about them: the air of something too easy, something effortless, stolen, unelaborated. We can never know what true poetry is, Mona reflected, but what makes a piece of writing recognizable as a poem is the feeling that you're getting ripped off.\",\n",
       " \"In the era of techno-capitalism, Raoul once told her, the sublime no longer exists; poetry, therefore, has to include a feeling of theft, an intuition of a comparison and competition--value itself should be totally accidental. What's vital is to communicate the feeling of having somehow swindled language--that surely *that* couldn't be a poem. If that couldn't be a poem, that's exactly why it was one.\",\n",
       " 'At this instant a rust-red moon is hanging low above the water lilies on the lake and the leaves of the live oaks gleam in its light. . . . Everything is in bloom, azaleas and dogwood, the air is soft as talcum powder',\n",
       " 'My father taught me meditation when I was eleven. Imagine a bucket between your open arms, he told me, and asked me to listen to the dripping of the water into the bucket and, when it was full, water dripping out from the bottom. “From empty to full, and from full to empty,”',\n",
       " 'To read is to be with people who, unlike those around one, do not notice one’s existence.',\n",
       " 'The hospital reminded me of the army…to be seen by all is the easiest way to hide; to speak, and to speak someone else’s language, the best mode of silence.',\n",
       " 'But people are not born spectators—they choose to be. It is a decision made for the sake of living.',\n",
       " 'In the month or so since my return from Marfa I had presented a range of symptoms Andrews assured me were almost certainly psychosomatic responses to the upcoming test: headaches, disordered speech, weakness, visual disturbances, nausea, numbness in my face and hands. I feared the test more than dissection because I feared the surgery more than death. So clearly could I picture the cardiologist walking in to inform me that the speed of dilation required immediate intervention that it was as though it had already happened; predicting it felt like recalling a traumatic event.',\n",
       " '“How they can move in any direction, how you can read one line a thousand different ways, the syntax shifts as you go.”',\n",
       " '“How the materiality of the writing destroys its sense, like walked about in class. You start writing and then you’re drawing. Or you start by reading and then you’re looking. Poetics of modal instability. Push past the point of collapse.”',\n",
       " '“Well, you said once that we shouldn’t worry about our literary careers, should worry about being underwater.”',\n",
       " '“Also there is the literalization of all literature because the sky is falling”',\n",
       " 'I did not say that our society could not, in its present form, go on, or that I believed the storms were in part man-made, or that poison was coming at us from a million points',\n",
       " 'I looked closely at the legal pad. At the top were some phrases I’d used about O’Brien’s writing, placed in quotations, and then some of Calvin’s phrases about those phrases, e.g. “Could apply to Waldrop’s trilogy,” which were starred. But the bulk of the writing resembled a private code of miniaturized and simplified letters and vertical strokes or, in palces, seismographic readouts—a shorthand for what our language couldn’t represent, a poem.',\n",
       " 'I breathed in the night are that was or was not laced with anachronistic blossoms and felt the small thrill I always felt to a lesser or greater degree when I looked at Manhattan’s skyline and the innumerable illuminated windows and the liquid sapphire and ruby of traffic on the FDR Drive and the present absence of the towers. It was a thrill that only built space produced in me, never the natural world, and only wheren there was an incommensurability of scal—the human dimensions of the windows tiny from such distance combining but not dissolving into the larger architecture of the skyline that was the expression, the material signature, of a collective person who didn’t yet exist, a still-uninhabited second person plural to whom all the arts, even in their most intimate registers, were nevertheless addressed. Only an urban expereience of the sublime was available to me because only then was the greatness beyond calculation the intuition of community. Bundled debt, trace amounts of antidepresssants in the municipal water, the vast arterial network of traffic, changing weather patterns of increasing severity—whenever I looked at lower Manhattan from Whitman’s side of the river I resolved to become of the artists who momentarily made bad forms of collectivity figures of its possibility, a proprioceptive flicker in advance of the communal body. What I felt when I tried to take in the skyline—and instead was taken in by it—was a fullness indistinguishable from being emptied, my personality dissolving into a personhood so abstract that every atom belonging to me as good belonged to Noor, the fiction of the world rearranging itself aorund her. If there had been a way to say it without sounding like presumptiuous co-op nonsense, I would have wanted to tell her that discovering you are not identical to yourself even in the most disturbing and painful way still contains the glimmer, however refracted, of the world to come, where everything is the same but a little different because the past will be citable in all of its moments, including those that from our present present happened but never occurred. You might have seen me sitting there on the bench that midnight, my hair matted down from the bandanna, eating an irresponsible quanitity of unsulfured mango, and having, as I projected myself into the future, a mild lacrimal event.',\n",
       " 'He was all ages at once as he sat in the dark before the wall, or he was flickering between them, moving through every house on the lake.',\n",
       " '- an empire whose enemies are so vague they’re everywhere -',\n",
       " 'fragmenting under the emotional pressure, became a litany of non sequiturs, like how some of the poets you admire sound to me . . . my speech was accelerating as if I were chasing after meaning as it receded',\n",
       " 'Grandma was already doing that thing you hate when I do; whenever I admired a painting or something, she’d say, “Take it, it’s yours, I’d love you to have it”---as if she were saying goodbye to the world, divesting.',\n",
       " 'All commodities, including coats, it seemed to him, were mysterious things, loaded with significance, drawing their value not from the labor invested in their production but instead from the abstract, often ugly and always competitive social relations of capitalism.',\n",
       " 'This dive site is called The Shrine, for the rustic, hand-built wooden church that perches atop a rocky spit. The stone is sliced like a staggered loaf with glacial striations that disappear into the deep trough of the Lynn Canal.',\n",
       " 'In order to withstand the weather, we had to become stone, and now we bruise ourselves upon the other who is closest.',\n",
       " 'There are myths of self-protection that hold us separate from each other and breed harshness and cruelty where we most need softness and understanding.',\n",
       " '- ignore it, and if that is not possible -',\n",
       " 'But if you’re traveling a road that begins nowhere and ends nowhere, the ownership of that road is meaningless.',\n",
       " 'That the speaking profits me, beyond any other effect.',\n",
       " 'What are the words you do not yet have? What do you need to say?',\n",
       " 'and while we wait in silence for that final luxury of fearlessness, the weight of that silence will choke us.',\n",
       " 'For there are no new ideas. There are only new ways of making them felt – of examining what those ideas feel like being lived on Sunday morning at 7 a.m., after brunch, during wild love, making war, giving birth, mourning our dead – while we suffer the old longings, battle the old warnings and fears of being silent and impotent and alone, while we taste new possibilities and strength.',\n",
       " 'How did a word for a rose garden come to mean a prayer? “Bimbo,” for example, used to refer to a man. The French word rien which means “nothing” now, in ancient French meant “something.” But the story of this word is not a journey from one meaning to its opposite.',\n",
       " 'During the first winter, at night, I sometimes feel as I imagine they do, as if the part of me that is exposed is plain, stripped of all ornament, and the part that isn’t seen is growing, spreading. Roots cast like a net through an ocean of silt.',\n",
       " 'The body is a text: every time we define ourselves, we choose definitions—names—that reduce the ways our bodies can be read.',\n",
       " 'Art as a separate kind of technical activity, only carries further, through a kind of involution, the enchantment which is immanent in all kinds of technical activity.',\n",
       " 'The [Salisbury Cathedral] matchstick model, functioning essentially as an advertisement, is part of a technology of enchantment, but it achieves its effect via the enchantment cast by its technical means, the manner of its coming into being, or rather, the idea which one forms of its coming into being.',\n",
       " 'Only after the piece was completed was the Artist disconsolate. He felt that way after all his pieces ended, he said, because it meant returning to the life of an ordinary man.',\n",
       " 'Or try on this idea: All projects are a shift from an inside to an outside. Nothing is risked, nothing takes form, until you cross that threshold.',\n",
       " 'Alice liked to imagine him quickened by the feeling of burrowing into a project, returning to it day after day, grooming it, feeding it, worrying and bleeding it, as he slipped into that fugue state when it’s just you and the project, a project that no one is waiting for or cares about other than you.',\n",
       " 'She murmured “Thank you,” in a low voice, and bowed slightly. He dipped his head in acknowledgment. What she wanted to say was too big for saying. The two words she’d managed to get out were its context.',\n",
       " 'But to marry it to a singular interpretation turns the art into a mere instrumental force.',\n",
       " 'One day at the university where he teaches, he and his colleagues arrived to discover that all the waste bins had been removed with no notice. Everyone was told they’d have to make “alternative arrangements” for their garbage. The reasoning for the abrupt banishing of bins was that waste was seen as a sign of inefficiency. Ideally, all inputs should be turned into outputs, data and knowledge into published work, all wihtout a shred of waste! What the bean counters hadn’t understood, the anthropologist went on, is how inefficiency is the very essence of creative practice. Whether one is a blacksmith or a poet, one is bound to produce enormous quantities of waste to make a thing. Wasting time honly has a negative connotation when we accept the narow idea that time is money: wasted time is wasted money and therefore must be inefficient.',\n",
       " '“But I have to work to make money,” he shot back, full of heat. A worried look came over his face. “If I don’t work, I won’t know my name.”',\n",
       " 'The skin-cracking cold of February. The hot radiator breath of February. The unincorporated area of February, miles inland from March’s coast.',\n",
       " '“A building’s architecture mimes its explosion.”',\n",
       " 'Before we met, I had spent a lifetime devoted to Wittgenstein’s idea that the inexpressible is contained—inexpressibly!---in the expressed. This idea gets less air time than his more reverential Whereof one cannot speak thereof one must be silent, but it is, I think, the deeper idea. Its paradox is, quite literally, why I write, or how I feel able to keep writing.',\n",
       " 'Lo what I would say, were words good enough. Words are good enough.',\n",
       " 'But I changed too. I looked anew at unnameable things, or at least things whose essence is flicker, flow.',\n",
       " 'It had been a useful solitude, constructed, as it was, around a recent sobriety, long walks to and from the Y through the sordid, bougainvillea-strewn back streets of Hollywood, evening drives up and down Mulholland to kill the long nights, and, or fouce, maniacal bouts of writing, learning to address no one.',\n",
       " 'This could be what a conversation is—simply the outline of a becoming. Gilles Deleuze/Claire Parnet',\n",
       " 'Words change depending on who speaks them there is no cure. The answer isn’t just to introduce new words (boi, cis-gendered, andro-fag), and then set out to reify their meanings (though obviously there is power and pragmatism there). One must also become alert to the multitude of possible uses, possible contexts, the wings with which each word can fly.',\n",
       " 'Here, as elsewhere, contamination makes deep rather than disqualifies.',\n",
       " 'But we do owe ourselves “an intellectual recognition of the fact that at first we were (psychologically) absolutely dependent, and that absolutely means absolutely. Luckily we were met by ordinary devotion.”',\n",
       " 'I realized that age doesn’t necessarily bring anything with it, save itself. The rest is optional.',\n",
       " 'I mean writing that dramatizes the ways in which we are for another or by virtue of another, not in a single instance, but from the start and always.',\n",
       " 'I need the occasional jailbreak, my hypomaniac dot riding the sky.',\n",
       " 'She spent a lot of time talking and writing about that which is more than one, and more than two, but less than infinity. This finitude is important. It makes possible the great mantra, the great invitation of Sedgwick’s work, which is to “pluralize and specify.” (Barthes: “one must pluralize, refine, continuously.”) This is an activity that demands an attentivenesss—a relentlessness, even—whose very rigor tips it into ardor.',\n",
       " 'The key is in the window, the key is in the sunlight at the window . . . the key is in the bars, in the sunlight in the window. Naomi Ginsberg, to Allen',\n",
       " 'That’s what we both hate about fiction, or at least crappy fiction—it purports to provide occasions for thinking through complex issues, but really it has predetermined the positions, stuffed a narrative full of false choices, and hooked you on them, rendering you less able to see out, get out.',\n",
       " 'We ought to say a felling of and, a feeling of if, a feeling of but, and a feeling of by, quite as readily as we say a feeling of blue or a feeling of cold. -Williams James',\n",
       " 'In high spirits, the group entered a grove of pines. Little of the moonlight filtered through the dense pine needles, and in the deepest part of the grove the path seemed to vanish completely. But they all knew the way well.',\n",
       " 'The reflection of the full moon, floating on the surface of the water, was pulled at times into an oval shape by the spreading ripples.',\n",
       " 'How unjust it was, when people treated the actual as limiting proof of the possible! I felt that this was what I was fighting against, and always had been: the tyranny of the particular, arbitrary ways that things happened to have turned out.',\n",
       " 'In any real-life situation, I would pretend I was in a novel, and then do whatever I would want the person in the novel to do. Afterward, I would write it all down, and I would have written a novel, without having had to invent a bunch of fake characters and pretend to care about them.',\n",
       " 'But my parents were the only ones I knew who never acted like I owed them money for being alive, or talked about kids being “spoiled” or “selfish,” or said that I had to be a doctor, or took other adults’ side over mine. I was so grateful that sometimes I sat in my room and cried.',\n",
       " 'Jordan was even taller than I was, she made her own clothes (mostly out of other, pre-existing clothes), and had a tattoo of half a snail, because it had gotten interrupted.',\n",
       " 'The taxi driver already knew how to get to the bus station. Once you got there, it was basically people’s job to asnwer your questions about bus schedules. You didn’t have to explain anything, or account for anything, or manifest love. If anyone got annoyed at you, they couldn’t cry, or scream at you, or accuse you of offending them, and at any point you could leave. It was totally different from being in your family.',\n",
       " 'We were learning past participles. Grammatically, the emphasis was less on doig the thing than on having done it.',\n",
       " 'I decided to try to take a creative writing class—less because I thought I would learn anything, than as a way to convert homework time into writing time.']"
      ]
     },
     "execution_count": 3,
     "metadata": {},
     "output_type": "execute_result"
    }
   ],
   "source": [
    "[line.strip() for line in open(\"prose.txt\")]"
   ]
  },
  {
   "cell_type": "code",
   "execution_count": 4,
   "id": "ad21a527",
   "metadata": {},
   "outputs": [],
   "source": [
    "poems = [line.strip() for line in open(\"poems.txt\")]"
   ]
  },
  {
   "cell_type": "code",
   "execution_count": 5,
   "id": "539b2d21",
   "metadata": {},
   "outputs": [],
   "source": [
    "prose = [line.strip() for line in open(\"prose.txt\")]"
   ]
  },
  {
   "cell_type": "code",
   "execution_count": 6,
   "id": "87628634",
   "metadata": {},
   "outputs": [
    {
     "name": "stdout",
     "output_type": "stream",
     "text": [
      "Her lines weren't sublime but they felt fresh. And there was something fundamental about them: the air of something too easy, something effortless, stolen, unelaborated. We can never know what true poetry is, Mona reflected, but what makes a piece of writing recognizable as a poem is the feeling that you're getting ripped off.\n",
      "In the era of techno-capitalism, Raoul once told her, the sublime no longer exists; poetry, therefore, has to include a feeling of theft, an intuition of a comparison and competition--value itself should be totally accidental. What's vital is to communicate the feeling of having somehow swindled language--that surely *that* couldn't be a poem. If that couldn't be a poem, that's exactly why it was one.\n",
      "At this instant a rust-red moon is hanging low above the water lilies on the lake and the leaves of the live oaks gleam in its light. . . . Everything is in bloom, azaleas and dogwood, the air is soft as talcum powder\n",
      "My father taught me meditation when I was eleven. Imagine a bucket between your open arms, he told me, and asked me to listen to the dripping of the water into the bucket and, when it was full, water dripping out from the bottom. “From empty to full, and from full to empty,”\n",
      "To read is to be with people who, unlike those around one, do not notice one’s existence.\n",
      "The hospital reminded me of the army…to be seen by all is the easiest way to hide; to speak, and to speak someone else’s language, the best mode of silence.\n",
      "But people are not born spectators—they choose to be. It is a decision made for the sake of living.\n",
      "In the month or so since my return from Marfa I had presented a range of symptoms Andrews assured me were almost certainly psychosomatic responses to the upcoming test: headaches, disordered speech, weakness, visual disturbances, nausea, numbness in my face and hands. I feared the test more than dissection because I feared the surgery more than death. So clearly could I picture the cardiologist walking in to inform me that the speed of dilation required immediate intervention that it was as though it had already happened; predicting it felt like recalling a traumatic event.\n",
      "“How they can move in any direction, how you can read one line a thousand different ways, the syntax shifts as you go.”\n",
      "“How the materiality of the writing destroys its sense, like walked about in class. You start writing and then you’re drawing. Or you start by reading and then you’re looking. Poetics of modal instability. Push past the point of collapse.”\n",
      "“Well, you said once that we shouldn’t worry about our literary careers, should worry about being underwater.”\n",
      "“Also there is the literalization of all literature because the sky is falling”\n",
      "I did not say that our society could not, in its present form, go on, or that I believed the storms were in part man-made, or that poison was coming at us from a million points\n",
      "I looked closely at the legal pad. At the top were some phrases I’d used about O’Brien’s writing, placed in quotations, and then some of Calvin’s phrases about those phrases, e.g. “Could apply to Waldrop’s trilogy,” which were starred. But the bulk of the writing resembled a private code of miniaturized and simplified letters and vertical strokes or, in palces, seismographic readouts—a shorthand for what our language couldn’t represent, a poem.\n",
      "I breathed in the night are that was or was not laced with anachronistic blossoms and felt the small thrill I always felt to a lesser or greater degree when I looked at Manhattan’s skyline and the innumerable illuminated windows and the liquid sapphire and ruby of traffic on the FDR Drive and the present absence of the towers. It was a thrill that only built space produced in me, never the natural world, and only wheren there was an incommensurability of scal—the human dimensions of the windows tiny from such distance combining but not dissolving into the larger architecture of the skyline that was the expression, the material signature, of a collective person who didn’t yet exist, a still-uninhabited second person plural to whom all the arts, even in their most intimate registers, were nevertheless addressed. Only an urban expereience of the sublime was available to me because only then was the greatness beyond calculation the intuition of community. Bundled debt, trace amounts of antidepresssants in the municipal water, the vast arterial network of traffic, changing weather patterns of increasing severity—whenever I looked at lower Manhattan from Whitman’s side of the river I resolved to become of the artists who momentarily made bad forms of collectivity figures of its possibility, a proprioceptive flicker in advance of the communal body. What I felt when I tried to take in the skyline—and instead was taken in by it—was a fullness indistinguishable from being emptied, my personality dissolving into a personhood so abstract that every atom belonging to me as good belonged to Noor, the fiction of the world rearranging itself aorund her. If there had been a way to say it without sounding like presumptiuous co-op nonsense, I would have wanted to tell her that discovering you are not identical to yourself even in the most disturbing and painful way still contains the glimmer, however refracted, of the world to come, where everything is the same but a little different because the past will be citable in all of its moments, including those that from our present present happened but never occurred. You might have seen me sitting there on the bench that midnight, my hair matted down from the bandanna, eating an irresponsible quanitity of unsulfured mango, and having, as I projected myself into the future, a mild lacrimal event.\n",
      "He was all ages at once as he sat in the dark before the wall, or he was flickering between them, moving through every house on the lake.\n",
      "- an empire whose enemies are so vague they’re everywhere -\n",
      "fragmenting under the emotional pressure, became a litany of non sequiturs, like how some of the poets you admire sound to me . . . my speech was accelerating as if I were chasing after meaning as it receded\n",
      "Grandma was already doing that thing you hate when I do; whenever I admired a painting or something, she’d say, “Take it, it’s yours, I’d love you to have it”---as if she were saying goodbye to the world, divesting.\n",
      "All commodities, including coats, it seemed to him, were mysterious things, loaded with significance, drawing their value not from the labor invested in their production but instead from the abstract, often ugly and always competitive social relations of capitalism.\n",
      "This dive site is called The Shrine, for the rustic, hand-built wooden church that perches atop a rocky spit. The stone is sliced like a staggered loaf with glacial striations that disappear into the deep trough of the Lynn Canal.\n",
      "In order to withstand the weather, we had to become stone, and now we bruise ourselves upon the other who is closest.\n",
      "There are myths of self-protection that hold us separate from each other and breed harshness and cruelty where we most need softness and understanding.\n",
      "- ignore it, and if that is not possible -\n",
      "But if you’re traveling a road that begins nowhere and ends nowhere, the ownership of that road is meaningless.\n",
      "That the speaking profits me, beyond any other effect.\n",
      "What are the words you do not yet have? What do you need to say?\n",
      "and while we wait in silence for that final luxury of fearlessness, the weight of that silence will choke us.\n",
      "For there are no new ideas. There are only new ways of making them felt – of examining what those ideas feel like being lived on Sunday morning at 7 a.m., after brunch, during wild love, making war, giving birth, mourning our dead – while we suffer the old longings, battle the old warnings and fears of being silent and impotent and alone, while we taste new possibilities and strength.\n",
      "How did a word for a rose garden come to mean a prayer? “Bimbo,” for example, used to refer to a man. The French word rien which means “nothing” now, in ancient French meant “something.” But the story of this word is not a journey from one meaning to its opposite.\n",
      "During the first winter, at night, I sometimes feel as I imagine they do, as if the part of me that is exposed is plain, stripped of all ornament, and the part that isn’t seen is growing, spreading. Roots cast like a net through an ocean of silt.\n",
      "The body is a text: every time we define ourselves, we choose definitions—names—that reduce the ways our bodies can be read.\n",
      "Art as a separate kind of technical activity, only carries further, through a kind of involution, the enchantment which is immanent in all kinds of technical activity.\n",
      "The [Salisbury Cathedral] matchstick model, functioning essentially as an advertisement, is part of a technology of enchantment, but it achieves its effect via the enchantment cast by its technical means, the manner of its coming into being, or rather, the idea which one forms of its coming into being.\n",
      "Only after the piece was completed was the Artist disconsolate. He felt that way after all his pieces ended, he said, because it meant returning to the life of an ordinary man.\n",
      "Or try on this idea: All projects are a shift from an inside to an outside. Nothing is risked, nothing takes form, until you cross that threshold.\n",
      "Alice liked to imagine him quickened by the feeling of burrowing into a project, returning to it day after day, grooming it, feeding it, worrying and bleeding it, as he slipped into that fugue state when it’s just you and the project, a project that no one is waiting for or cares about other than you.\n",
      "She murmured “Thank you,” in a low voice, and bowed slightly. He dipped his head in acknowledgment. What she wanted to say was too big for saying. The two words she’d managed to get out were its context.\n",
      "But to marry it to a singular interpretation turns the art into a mere instrumental force.\n",
      "One day at the university where he teaches, he and his colleagues arrived to discover that all the waste bins had been removed with no notice. Everyone was told they’d have to make “alternative arrangements” for their garbage. The reasoning for the abrupt banishing of bins was that waste was seen as a sign of inefficiency. Ideally, all inputs should be turned into outputs, data and knowledge into published work, all wihtout a shred of waste! What the bean counters hadn’t understood, the anthropologist went on, is how inefficiency is the very essence of creative practice. Whether one is a blacksmith or a poet, one is bound to produce enormous quantities of waste to make a thing. Wasting time honly has a negative connotation when we accept the narow idea that time is money: wasted time is wasted money and therefore must be inefficient.\n",
      "“But I have to work to make money,” he shot back, full of heat. A worried look came over his face. “If I don’t work, I won’t know my name.”\n",
      "The skin-cracking cold of February. The hot radiator breath of February. The unincorporated area of February, miles inland from March’s coast.\n",
      "“A building’s architecture mimes its explosion.”\n",
      "Before we met, I had spent a lifetime devoted to Wittgenstein’s idea that the inexpressible is contained—inexpressibly!---in the expressed. This idea gets less air time than his more reverential Whereof one cannot speak thereof one must be silent, but it is, I think, the deeper idea. Its paradox is, quite literally, why I write, or how I feel able to keep writing.\n",
      "Lo what I would say, were words good enough. Words are good enough.\n",
      "But I changed too. I looked anew at unnameable things, or at least things whose essence is flicker, flow.\n",
      "It had been a useful solitude, constructed, as it was, around a recent sobriety, long walks to and from the Y through the sordid, bougainvillea-strewn back streets of Hollywood, evening drives up and down Mulholland to kill the long nights, and, or fouce, maniacal bouts of writing, learning to address no one.\n",
      "This could be what a conversation is—simply the outline of a becoming. Gilles Deleuze/Claire Parnet\n",
      "Words change depending on who speaks them there is no cure. The answer isn’t just to introduce new words (boi, cis-gendered, andro-fag), and then set out to reify their meanings (though obviously there is power and pragmatism there). One must also become alert to the multitude of possible uses, possible contexts, the wings with which each word can fly.\n",
      "Here, as elsewhere, contamination makes deep rather than disqualifies.\n",
      "But we do owe ourselves “an intellectual recognition of the fact that at first we were (psychologically) absolutely dependent, and that absolutely means absolutely. Luckily we were met by ordinary devotion.”\n",
      "I realized that age doesn’t necessarily bring anything with it, save itself. The rest is optional.\n",
      "I mean writing that dramatizes the ways in which we are for another or by virtue of another, not in a single instance, but from the start and always.\n",
      "I need the occasional jailbreak, my hypomaniac dot riding the sky.\n",
      "She spent a lot of time talking and writing about that which is more than one, and more than two, but less than infinity. This finitude is important. It makes possible the great mantra, the great invitation of Sedgwick’s work, which is to “pluralize and specify.” (Barthes: “one must pluralize, refine, continuously.”) This is an activity that demands an attentivenesss—a relentlessness, even—whose very rigor tips it into ardor.\n",
      "The key is in the window, the key is in the sunlight at the window . . . the key is in the bars, in the sunlight in the window. Naomi Ginsberg, to Allen\n",
      "That’s what we both hate about fiction, or at least crappy fiction—it purports to provide occasions for thinking through complex issues, but really it has predetermined the positions, stuffed a narrative full of false choices, and hooked you on them, rendering you less able to see out, get out.\n",
      "We ought to say a felling of and, a feeling of if, a feeling of but, and a feeling of by, quite as readily as we say a feeling of blue or a feeling of cold. -Williams James\n",
      "In high spirits, the group entered a grove of pines. Little of the moonlight filtered through the dense pine needles, and in the deepest part of the grove the path seemed to vanish completely. But they all knew the way well.\n",
      "The reflection of the full moon, floating on the surface of the water, was pulled at times into an oval shape by the spreading ripples.\n",
      "How unjust it was, when people treated the actual as limiting proof of the possible! I felt that this was what I was fighting against, and always had been: the tyranny of the particular, arbitrary ways that things happened to have turned out.\n",
      "In any real-life situation, I would pretend I was in a novel, and then do whatever I would want the person in the novel to do. Afterward, I would write it all down, and I would have written a novel, without having had to invent a bunch of fake characters and pretend to care about them.\n",
      "But my parents were the only ones I knew who never acted like I owed them money for being alive, or talked about kids being “spoiled” or “selfish,” or said that I had to be a doctor, or took other adults’ side over mine. I was so grateful that sometimes I sat in my room and cried.\n",
      "Jordan was even taller than I was, she made her own clothes (mostly out of other, pre-existing clothes), and had a tattoo of half a snail, because it had gotten interrupted.\n",
      "The taxi driver already knew how to get to the bus station. Once you got there, it was basically people’s job to asnwer your questions about bus schedules. You didn’t have to explain anything, or account for anything, or manifest love. If anyone got annoyed at you, they couldn’t cry, or scream at you, or accuse you of offending them, and at any point you could leave. It was totally different from being in your family.\n",
      "We were learning past participles. Grammatically, the emphasis was less on doig the thing than on having done it.\n",
      "I decided to try to take a creative writing class—less because I thought I would learn anything, than as a way to convert homework time into writing time.\n"
     ]
    }
   ],
   "source": [
    "print(\"\\n\".join(prose))"
   ]
  },
  {
   "cell_type": "code",
   "execution_count": 14,
   "id": "feeeb05b",
   "metadata": {
    "scrolled": false
   },
   "outputs": [
    {
     "name": "stdout",
     "output_type": "stream",
     "text": [
      "“Settling in,” “up to speed,” “lay of the land,” dead metaphors;\n",
      "What are the words you do not yet have? What do you need to say?\n",
      "Needless to say, all of these words are wrong.\n",
      "I decided to try to take a creative writing class—less because I thought I would learn anything, than as a way to convert homework time into writing time.\n",
      "Exhilaration: The radio is on at Roma.\n",
      "But we do owe ourselves “an intellectual recognition of the fact that at first we were (psychologically) absolutely dependent, and that absolutely means absolutely. Luckily we were met by ordinary devotion.”\n",
      "We desire a flat, affected tone.\n",
      "Only after the piece was completed was the Artist disconsolate. He felt that way after all his pieces ended, he said, because it meant returning to the life of an ordinary man.\n"
     ]
    }
   ],
   "source": [
    "sample_lines = 4\n",
    "\n",
    "randompoems = random.sample(poems, 8)\n",
    "randomprose = random.sample(prose, 6)\n",
    "\n",
    "for x in range(sample_lines):\n",
    "    print(randompoems[x])\n",
    "    print(randomprose[x])"
   ]
  },
  {
   "cell_type": "code",
   "execution_count": null,
   "id": "6bcf82d2",
   "metadata": {},
   "outputs": [],
   "source": []
  },
  {
   "cell_type": "code",
   "execution_count": null,
   "id": "a65ed5b2",
   "metadata": {},
   "outputs": [],
   "source": []
  },
  {
   "cell_type": "code",
   "execution_count": null,
   "id": "0d4af631",
   "metadata": {},
   "outputs": [],
   "source": []
  },
  {
   "cell_type": "code",
   "execution_count": null,
   "id": "e74a4faf",
   "metadata": {},
   "outputs": [],
   "source": []
  },
  {
   "cell_type": "code",
   "execution_count": null,
   "id": "1d5ea2d7",
   "metadata": {},
   "outputs": [],
   "source": []
  },
  {
   "cell_type": "code",
   "execution_count": null,
   "id": "eb69cdb0",
   "metadata": {},
   "outputs": [],
   "source": []
  },
  {
   "cell_type": "code",
   "execution_count": null,
   "id": "cbd749c8",
   "metadata": {},
   "outputs": [],
   "source": []
  },
  {
   "cell_type": "code",
   "execution_count": null,
   "id": "34627e9b",
   "metadata": {},
   "outputs": [],
   "source": []
  },
  {
   "cell_type": "code",
   "execution_count": null,
   "id": "e53caf23",
   "metadata": {},
   "outputs": [],
   "source": []
  },
  {
   "cell_type": "code",
   "execution_count": null,
   "id": "f11bbb97",
   "metadata": {},
   "outputs": [],
   "source": []
  },
  {
   "cell_type": "code",
   "execution_count": null,
   "id": "b7fc568f",
   "metadata": {},
   "outputs": [],
   "source": []
  },
  {
   "cell_type": "code",
   "execution_count": null,
   "id": "b2b3dcbf",
   "metadata": {},
   "outputs": [],
   "source": []
  },
  {
   "cell_type": "code",
   "execution_count": null,
   "id": "10603db5",
   "metadata": {},
   "outputs": [],
   "source": []
  }
 ],
 "metadata": {
  "kernelspec": {
   "display_name": "Python 3 (ipykernel)",
   "language": "python",
   "name": "python3"
  },
  "language_info": {
   "codemirror_mode": {
    "name": "ipython",
    "version": 3
   },
   "file_extension": ".py",
   "mimetype": "text/x-python",
   "name": "python",
   "nbconvert_exporter": "python",
   "pygments_lexer": "ipython3",
   "version": "3.11.8"
  }
 },
 "nbformat": 4,
 "nbformat_minor": 5
}
