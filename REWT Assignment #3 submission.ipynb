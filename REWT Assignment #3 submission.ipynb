{
 "cells": [
  {
   "cell_type": "code",
   "execution_count": 49,
   "id": "29492829",
   "metadata": {},
   "outputs": [],
   "source": [
    "instructional_artwork = {\n",
    "    \"title\": [\"Preliminary Materials for an Open Process\", \"Instructions for a Spontaneous Practice\", \"Lines for a Performance Project\", \"Steps Towards General Life\", \"Heart Plan\", \"(a collection of instructives)\", \"ﮩ٨ـﮩﮩ٨ـ♡ﮩ٨ـﮩﮩ٨ـ\"],\n",
    "    \"bracketed\": [\"[process for a performance no longer than 2 minutes in a space nearby you]\", \"[All materials are optional in this piece]\", \"[performance in a general time]\"],\n",
    "    \"materials_needed\": [\"Optional materials: \", \"Gather if desired: \", \"Materials: \", \"Jump fast with: \", \"Try with: \"],\n",
    "    \"materials\": [\"your body\", \"a time you're waiting (in line or on a call for example)\", \"water\", \"if you can not whistle please try whistling during this\", \"preliminary stretches (up to performer(s))\", \"your phone in hand\"],\n",
    "    \"step_bullets\": [\"𓆝\", \"𓆟\", \"𓆞\", \"𓆝\", \"𓆟\"],\n",
    "    \"steps_title\": [\"Steps:\", \"Motions:\", \"General suggestions:\", \"Script:\", \"Route:\"],\n",
    "    \"steps\": [\"Step inside\", \"Step outside\", \"Close your eyes\", \"Wait five seconds\", \"Stretch your ear lobe for over 5 .. up to 10 seconds\", \"Call a friend\"],\n",
    "    \"tip_title\": [\"Suggested: \", \"Alternative tweaks: \", \"At other times: \"],\n",
    "    \"tips\": [\"Do at least three iterations\", \"Consider not doing this?\"],\n",
    "    \"conclusion\": [\"ﮩ٨ـﮩﮩ٨ـ♡ﮩ٨ـﮩﮩ٨ـ\", \"Repeat in place\", \"Desert the task\"]\n",
    "}"
   ]
  },
  {
   "cell_type": "code",
   "execution_count": 51,
   "id": "2aab8f78",
   "metadata": {
    "scrolled": false
   },
   "outputs": [
    {
     "name": "stdout",
     "output_type": "stream",
     "text": [
      "Instructions for a Spontaneous Practice\n",
      "[All materials are optional in this piece]\n",
      "\n",
      "\n",
      "Materials: preliminary stretches (up to performer(s)), your body, and if you can not whistle please try whistling during this\n",
      "\n",
      "Script:\n",
      "𓆞 Wait five seconds\n",
      "𓆟 Close your eyes\n",
      "𓆝 Step outside\n",
      "𓆟 Stretch your ear lobe for over 5 .. up to 10 seconds\n",
      "𓆝 Step inside\n",
      "\n",
      "At other times: Do at least three iterations\n",
      "\n",
      "Desert the task\n"
     ]
    }
   ],
   "source": [
    "import random\n",
    "\n",
    "def generate_instructional_artwork():\n",
    "    artwork = \"\"\n",
    "    \n",
    "    # Choose a random title and add it to the artwork\n",
    "    artwork += random.choice(instructional_artwork[\"title\"])\n",
    "        \n",
    "    # Choose and add parenthetical disclaimer needed to the artwork\n",
    "    artwork += \"\\n\" + random.choice(instructional_artwork[\"bracketed\"]) + \"\\n\\n\"\n",
    "    \n",
    "    # Choose and add materials needed to the artwork\n",
    "    artwork += \"\\n\" + random.choice(instructional_artwork[\"materials_needed\"])\n",
    "\n",
    "    # Choose and add three random materials to the artwork\n",
    "    materials = random.sample(instructional_artwork[\"materials\"], 3)\n",
    "    artwork += \", \".join(materials[:-1]) + \", and \" + materials[-1] + \"\\n\"\n",
    "    \n",
    "    artwork += \"\\n\" + random.choice(instructional_artwork[\"steps_title\"]) + \"\\n\"\n",
    "    \n",
    "    # Choose a random step bullet and add it in front of each step\n",
    "    for step in random.sample(instructional_artwork[\"steps\"], 5):\n",
    "        bullet = random.choice(instructional_artwork[\"step_bullets\"])\n",
    "        artwork += f\"{bullet} {step}\\n\"\n",
    "    \n",
    "    # Choose and add a tip title and tip to the artwork\n",
    "    artwork += \"\\n\" + random.choice(instructional_artwork[\"tip_title\"]) + random.choice(instructional_artwork[\"tips\"]) + \"\\n\"\n",
    "    \n",
    "    # Add conclusion to the artwork\n",
    "    artwork += \"\\n\" + random.choice(instructional_artwork[\"conclusion\"])\n",
    "    \n",
    "    return artwork\n",
    "\n",
    "# Generate and print an instructional artwork\n",
    "print(generate_instructional_artwork())\n"
   ]
  },
  {
   "cell_type": "code",
   "execution_count": null,
   "id": "6240be64",
   "metadata": {},
   "outputs": [],
   "source": []
  },
  {
   "cell_type": "code",
   "execution_count": null,
   "id": "eb366198",
   "metadata": {},
   "outputs": [],
   "source": []
  },
  {
   "cell_type": "code",
   "execution_count": null,
   "id": "4ce8ddae",
   "metadata": {},
   "outputs": [],
   "source": []
  },
  {
   "cell_type": "code",
   "execution_count": null,
   "id": "62a41c31",
   "metadata": {},
   "outputs": [],
   "source": []
  },
  {
   "cell_type": "code",
   "execution_count": null,
   "id": "d7287e5e",
   "metadata": {},
   "outputs": [],
   "source": []
  },
  {
   "cell_type": "code",
   "execution_count": null,
   "id": "c43ffc47",
   "metadata": {},
   "outputs": [],
   "source": []
  },
  {
   "cell_type": "code",
   "execution_count": null,
   "id": "dd15138f",
   "metadata": {},
   "outputs": [],
   "source": []
  },
  {
   "cell_type": "code",
   "execution_count": null,
   "id": "dfd124b8",
   "metadata": {},
   "outputs": [],
   "source": []
  },
  {
   "cell_type": "code",
   "execution_count": null,
   "id": "226661ff",
   "metadata": {},
   "outputs": [],
   "source": []
  },
  {
   "cell_type": "code",
   "execution_count": null,
   "id": "9466b378",
   "metadata": {},
   "outputs": [],
   "source": []
  },
  {
   "cell_type": "code",
   "execution_count": null,
   "id": "2509fd18",
   "metadata": {},
   "outputs": [],
   "source": []
  }
 ],
 "metadata": {
  "kernelspec": {
   "display_name": "Python 3 (ipykernel)",
   "language": "python",
   "name": "python3"
  },
  "language_info": {
   "codemirror_mode": {
    "name": "ipython",
    "version": 3
   },
   "file_extension": ".py",
   "mimetype": "text/x-python",
   "name": "python",
   "nbconvert_exporter": "python",
   "pygments_lexer": "ipython3",
   "version": "3.11.5"
  }
 },
 "nbformat": 4,
 "nbformat_minor": 5
}
