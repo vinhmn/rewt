{
 "cells": [
  {
   "cell_type": "code",
   "execution_count": 12,
   "id": "d01e74aa",
   "metadata": {},
   "outputs": [],
   "source": [
    "import spacy"
   ]
  },
  {
   "cell_type": "code",
   "execution_count": 13,
   "id": "b7f1ede7",
   "metadata": {},
   "outputs": [],
   "source": [
    "nlp = spacy.load('en_core_web_md')"
   ]
  },
  {
   "cell_type": "code",
   "execution_count": 14,
   "id": "0155011e",
   "metadata": {},
   "outputs": [],
   "source": [
    "doc = nlp(open(\"Lerner\").read())"
   ]
  },
  {
   "cell_type": "code",
   "execution_count": 15,
   "id": "30c33174",
   "metadata": {},
   "outputs": [],
   "source": [
    "sentences = list(doc.sents)\n",
    "words = [item for item in list(doc) if item.is_alpha]\n",
    "noun_chunks = list(doc.noun_chunks)\n",
    "entities = list(doc.ents)"
   ]
  },
  {
   "cell_type": "code",
   "execution_count": 16,
   "id": "7a941ba5",
   "metadata": {},
   "outputs": [],
   "source": [
    "import random"
   ]
  },
  {
   "cell_type": "code",
   "execution_count": 17,
   "id": "38aecfee",
   "metadata": {},
   "outputs": [],
   "source": [
    "## Extracting Words from doc"
   ]
  },
  {
   "cell_type": "code",
   "execution_count": 34,
   "id": "ce8dad25",
   "metadata": {},
   "outputs": [],
   "source": [
    "adjective = list(set([item.text for item in doc if item.pos_ == 'ADJ']))"
   ]
  },
  {
   "cell_type": "code",
   "execution_count": 35,
   "id": "b031b36a",
   "metadata": {},
   "outputs": [],
   "source": [
    "noun = list(set([item.text for item in doc if item.tag_ == 'NN']))"
   ]
  },
  {
   "cell_type": "code",
   "execution_count": 36,
   "id": "eb3acc00",
   "metadata": {},
   "outputs": [],
   "source": [
    "pluralnoun = list(set([item.text for item in doc if item.tag_ == 'NNS']))"
   ]
  },
  {
   "cell_type": "code",
   "execution_count": 37,
   "id": "64f8abb2",
   "metadata": {},
   "outputs": [],
   "source": [
    "gerund = list(set([item.text for item in doc if item.tag_ == 'VBG']))"
   ]
  },
  {
   "cell_type": "code",
   "execution_count": 38,
   "id": "eb78e114",
   "metadata": {},
   "outputs": [],
   "source": [
    "adverb = list(set([item.text for item in doc if item.tag_ == 'RB']))"
   ]
  },
  {
   "cell_type": "code",
   "execution_count": 51,
   "id": "2ca516c9",
   "metadata": {},
   "outputs": [],
   "source": [
    "verb = list(set([item.text for item in doc if item.tag_ == 'VB']))"
   ]
  },
  {
   "cell_type": "code",
   "execution_count": 54,
   "id": "b62c0a98",
   "metadata": {},
   "outputs": [
    {
     "data": {
      "text/plain": [
       "'The ultimately of these professors is, in a material, AdamOakInst. These genetics in a word. The adaptation is halfwave, as is the example of the tank through the denial. Nevertheless, we were controlling for tentacular. old monitor, general perspective. We were jumping to know more, to be made to edit in public. We work a flat, affected tone. A beware of gulfs on keep off range. The third driver.'"
      ]
     },
     "execution_count": 54,
     "metadata": {},
     "output_type": "execute_result"
    }
   ],
   "source": [
    "f\"The {random.choice(adverb)} of these {random.choice(pluralnoun)} is, in a {random.choice(noun)}, {random.choice(adjective)}. These {random.choice(pluralnoun)} in a word. The {random.choice(noun)} is {random.choice(adverb)}{random.choice(noun)}, as is the {random.choice(noun)} of the {random.choice(noun)} through the {random.choice(noun)}. Nevertheless, we were {random.choice(gerund)} for {random.choice(adjective)}. {random.choice(adjective)} {random.choice(noun)}, {random.choice(adjective)} {random.choice(noun)}. We were {random.choice(gerund)} to {random.choice(verb)} more, to be made to {random.choice(verb)} in public. We {random.choice(verb)} a flat, affected tone. A beware of {random.choice(noun)} on keep off {random.choice(noun)}. The {random.choice(adjective)} {random.choice(noun)}.\""
   ]
  },
  {
   "cell_type": "code",
   "execution_count": null,
   "id": "a867771a",
   "metadata": {},
   "outputs": [],
   "source": []
  },
  {
   "cell_type": "code",
   "execution_count": null,
   "id": "11294f05",
   "metadata": {},
   "outputs": [],
   "source": []
  }
 ],
 "metadata": {
  "kernelspec": {
   "display_name": "Python 3 (ipykernel)",
   "language": "python",
   "name": "python3"
  },
  "language_info": {
   "codemirror_mode": {
    "name": "ipython",
    "version": 3
   },
   "file_extension": ".py",
   "mimetype": "text/x-python",
   "name": "python",
   "nbconvert_exporter": "python",
   "pygments_lexer": "ipython3",
   "version": "3.11.8"
  }
 },
 "nbformat": 4,
 "nbformat_minor": 5
}
