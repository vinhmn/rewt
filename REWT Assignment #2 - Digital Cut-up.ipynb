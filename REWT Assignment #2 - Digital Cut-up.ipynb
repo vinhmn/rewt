{
 "cells": [
  {
   "cell_type": "code",
   "execution_count": 1,
   "id": "044ab9eb",
   "metadata": {},
   "outputs": [],
   "source": [
    "import random"
   ]
  },
  {
   "cell_type": "code",
   "execution_count": 2,
   "id": "f9bd0712",
   "metadata": {},
   "outputs": [
    {
     "data": {
      "text/plain": [
       "['The predictability of these rooms is, in a word, exquisite.',\n",
       " 'These rooms in a word.',\n",
       " 'The moon is predictably exquisite, as is the view of the moon through the word.',\n",
       " 'Nevertheless, we were hoping for less.',\n",
       " 'Less space, less light.',\n",
       " 'We were hoping to pay more, to be made to pay in public.',\n",
       " 'We desire a flat, affected tone.',\n",
       " 'A beware of dog on keep off grass.',\n",
       " 'The glass ceiling is exquisite.',\n",
       " 'Is it made of glass?',\n",
       " 'No, glass.']"
      ]
     },
     "execution_count": 2,
     "metadata": {},
     "output_type": "execute_result"
    }
   ],
   "source": [
    "[line.strip() for line in open(\"poem.txt\")]"
   ]
  },
  {
   "cell_type": "code",
   "execution_count": 3,
   "id": "2c4e1784",
   "metadata": {},
   "outputs": [
    {
     "data": {
      "text/plain": [
       "['And then I asked him with my eyes to ask again yes',\n",
       " 'and then he asked me would I yes',\n",
       " 'and his heart was going like mad',\n",
       " 'and yes I said yes',\n",
       " 'I will yes.',\n",
       " \"Her lines weren't sublime but they felt fresh.\",\n",
       " 'And there was something fundamental about them: the air of something too easy, something effortless, stolen, unelaborated.',\n",
       " \"We can never know what true poetry is, Mona reflected, but what makes a piece of writing recognizable as a poem is the feeling that you're getting ripped off.\",\n",
       " 'In the era of techno-capitalism, Raoul once told her, the sublime no longer exists; poetry, therefore, has to include a feeling of theft, an intuition of a comparison and competition--value itself should be totally accidental.',\n",
       " \"What's vital is to communicate the feeling of having somehow swindled language--that surely *that* couldn't be a poem.\",\n",
       " \"If that couldn't be a poem, that's exactly why it was one.\",\n",
       " 'At this instant a rust-red moon is hanging low',\n",
       " 'above the water lilies',\n",
       " 'on the lake',\n",
       " 'and the leaves of the live oaks gleam in its light. . . .',\n",
       " 'Everything is in bloom',\n",
       " 'azaleas and dogwood',\n",
       " 'the air is soft as talcum powder']"
      ]
     },
     "execution_count": 3,
     "metadata": {},
     "output_type": "execute_result"
    }
   ],
   "source": [
    "[line.strip() for line in open(\"prose.txt\")]"
   ]
  },
  {
   "cell_type": "code",
   "execution_count": 4,
   "id": "ad21a527",
   "metadata": {},
   "outputs": [],
   "source": [
    "poem = [line.strip() for line in open(\"poem.txt\")]"
   ]
  },
  {
   "cell_type": "code",
   "execution_count": 5,
   "id": "539b2d21",
   "metadata": {},
   "outputs": [],
   "source": [
    "prose = [line.strip() for line in open(\"prose.txt\")]"
   ]
  },
  {
   "cell_type": "code",
   "execution_count": null,
   "id": "8d90f951",
   "metadata": {},
   "outputs": [],
   "source": []
  },
  {
   "cell_type": "code",
   "execution_count": 6,
   "id": "87628634",
   "metadata": {},
   "outputs": [
    {
     "name": "stdout",
     "output_type": "stream",
     "text": [
      "And then I asked him with my eyes to ask again yes\n",
      "and then he asked me would I yes\n",
      "and his heart was going like mad\n",
      "and yes I said yes\n",
      "I will yes.\n",
      "Her lines weren't sublime but they felt fresh.\n",
      "And there was something fundamental about them: the air of something too easy, something effortless, stolen, unelaborated.\n",
      "We can never know what true poetry is, Mona reflected, but what makes a piece of writing recognizable as a poem is the feeling that you're getting ripped off.\n",
      "In the era of techno-capitalism, Raoul once told her, the sublime no longer exists; poetry, therefore, has to include a feeling of theft, an intuition of a comparison and competition--value itself should be totally accidental.\n",
      "What's vital is to communicate the feeling of having somehow swindled language--that surely *that* couldn't be a poem.\n",
      "If that couldn't be a poem, that's exactly why it was one.\n",
      "At this instant a rust-red moon is hanging low\n",
      "above the water lilies\n",
      "on the lake\n",
      "and the leaves of the live oaks gleam in its light. . . .\n",
      "Everything is in bloom\n",
      "azaleas and dogwood\n",
      "the air is soft as talcum powder\n"
     ]
    }
   ],
   "source": [
    "print(\"\\n\".join(prose))"
   ]
  },
  {
   "cell_type": "code",
   "execution_count": null,
   "id": "d10de13c",
   "metadata": {},
   "outputs": [],
   "source": []
  },
  {
   "cell_type": "code",
   "execution_count": null,
   "id": "97298cca",
   "metadata": {},
   "outputs": [],
   "source": []
  },
  {
   "cell_type": "code",
   "execution_count": 7,
   "id": "feeeb05b",
   "metadata": {
    "scrolled": true
   },
   "outputs": [
    {
     "name": "stdout",
     "output_type": "stream",
     "text": [
      "No, glass.\n",
      "I will yes.\n",
      "Is it made of glass?\n",
      "the air is soft as talcum powder\n",
      "We desire a flat, affected tone.\n",
      "We can never know what true poetry is, Mona reflected, but what makes a piece of writing recognizable as a poem is the feeling that you're getting ripped off.\n",
      "The moon is predictably exquisite, as is the view of the moon through the word.\n",
      "and yes I said yes\n"
     ]
    }
   ],
   "source": [
    "sample_lines = 4\n",
    "\n",
    "randompoem = random.sample(poem, 6)\n",
    "randomprose = random.sample(prose, 6)\n",
    "\n",
    "for x in range(sample_lines):\n",
    "    print(randompoem[x])\n",
    "    print(randomprose[x])\n"
   ]
  },
  {
   "cell_type": "code",
   "execution_count": null,
   "id": "6bcf82d2",
   "metadata": {},
   "outputs": [],
   "source": []
  },
  {
   "cell_type": "code",
   "execution_count": null,
   "id": "a65ed5b2",
   "metadata": {},
   "outputs": [],
   "source": []
  },
  {
   "cell_type": "code",
   "execution_count": null,
   "id": "0d4af631",
   "metadata": {},
   "outputs": [],
   "source": []
  },
  {
   "cell_type": "code",
   "execution_count": null,
   "id": "e74a4faf",
   "metadata": {},
   "outputs": [],
   "source": []
  },
  {
   "cell_type": "code",
   "execution_count": null,
   "id": "1d5ea2d7",
   "metadata": {},
   "outputs": [],
   "source": []
  },
  {
   "cell_type": "code",
   "execution_count": null,
   "id": "eb69cdb0",
   "metadata": {},
   "outputs": [],
   "source": []
  },
  {
   "cell_type": "code",
   "execution_count": null,
   "id": "cbd749c8",
   "metadata": {},
   "outputs": [],
   "source": []
  },
  {
   "cell_type": "code",
   "execution_count": null,
   "id": "34627e9b",
   "metadata": {},
   "outputs": [],
   "source": []
  },
  {
   "cell_type": "code",
   "execution_count": null,
   "id": "e53caf23",
   "metadata": {},
   "outputs": [],
   "source": []
  },
  {
   "cell_type": "code",
   "execution_count": null,
   "id": "f11bbb97",
   "metadata": {},
   "outputs": [],
   "source": []
  },
  {
   "cell_type": "code",
   "execution_count": null,
   "id": "b7fc568f",
   "metadata": {},
   "outputs": [],
   "source": []
  },
  {
   "cell_type": "code",
   "execution_count": null,
   "id": "b2b3dcbf",
   "metadata": {},
   "outputs": [],
   "source": []
  },
  {
   "cell_type": "code",
   "execution_count": null,
   "id": "10603db5",
   "metadata": {},
   "outputs": [],
   "source": []
  }
 ],
 "metadata": {
  "kernelspec": {
   "display_name": "Python 3 (ipykernel)",
   "language": "python",
   "name": "python3"
  },
  "language_info": {
   "codemirror_mode": {
    "name": "ipython",
    "version": 3
   },
   "file_extension": ".py",
   "mimetype": "text/x-python",
   "name": "python",
   "nbconvert_exporter": "python",
   "pygments_lexer": "ipython3",
   "version": "3.11.5"
  }
 },
 "nbformat": 4,
 "nbformat_minor": 5
}
